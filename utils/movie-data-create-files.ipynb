{
 "cells": [
  {
   "cell_type": "code",
   "execution_count": 1,
   "metadata": {},
   "outputs": [],
   "source": [
    "from __future__ import division\n",
    "import os \n",
    "import numpy as np \n",
    "import pandas as pd\n",
    "from collections import defaultdict\n",
    "import itertools\n",
    "import ast"
   ]
  },
  {
   "cell_type": "code",
   "execution_count": 2,
   "metadata": {},
   "outputs": [],
   "source": [
    "datadir = '../../data/the-movies-dataset/'"
   ]
  },
  {
   "cell_type": "code",
   "execution_count": 3,
   "metadata": {},
   "outputs": [],
   "source": [
    "small_ratings_file = datadir + 'ratings_small.csv'\n",
    "all_ratings_file = datadir + 'ratings.csv'\n",
    "# df = pd.read_csv(all_ratings_file, delimiter=',')\n",
    "df = pd.read_csv(small_ratings_file, delimiter=',')"
   ]
  },
  {
   "cell_type": "code",
   "execution_count": 4,
   "metadata": {},
   "outputs": [
    {
     "name": "stdout",
     "output_type": "stream",
     "text": [
      "Index([u'userId', u'movieId', u'rating', u'timestamp'], dtype='object')\n"
     ]
    }
   ],
   "source": [
    "df.dataframeName = 'ratings_small.csv'\n",
    "print(df.columns)"
   ]
  },
  {
   "cell_type": "code",
   "execution_count": 5,
   "metadata": {},
   "outputs": [
    {
     "name": "stdout",
     "output_type": "stream",
     "text": [
      "   userId  movieId  rating   timestamp\n",
      "0       1       31     2.5  1260759144\n",
      "1       1     1029     3.0  1260759179\n",
      "2       1     1061     3.0  1260759182\n",
      "3       1     1129     2.0  1260759185\n",
      "4       1     1172     4.0  1260759205\n"
     ]
    }
   ],
   "source": [
    "df.drop(columns=['timestamp'])\n",
    "print(df.head(5))"
   ]
  },
  {
   "cell_type": "code",
   "execution_count": null,
   "metadata": {},
   "outputs": [],
   "source": []
  },
  {
   "cell_type": "code",
   "execution_count": 6,
   "metadata": {},
   "outputs": [
    {
     "name": "stdout",
     "output_type": "stream",
     "text": [
      "163949\n",
      "1\n",
      "<type 'numpy.int64'>\n"
     ]
    }
   ],
   "source": [
    "print(max(df['movieId']))\n",
    "print(min(df['movieId']))\n",
    "print(type(df['movieId'][0]))"
   ]
  },
  {
   "cell_type": "code",
   "execution_count": 7,
   "metadata": {},
   "outputs": [
    {
     "name": "stdout",
     "output_type": "stream",
     "text": [
      "671\n",
      "1\n",
      "<type 'numpy.int64'>\n"
     ]
    }
   ],
   "source": [
    "print (max(df['userId']))\n",
    "print (min(df['userId']))\n",
    "print(type(df['userId'][0]))"
   ]
  },
  {
   "cell_type": "code",
   "execution_count": 8,
   "metadata": {},
   "outputs": [],
   "source": [
    "userid_set = set()\n",
    "movieid_set = set()\n",
    "\n",
    "for i in df['userId']:\n",
    "    if i not in userid_set:\n",
    "        userid_set.add(i)\n",
    "\n",
    "for i in df['movieId']:\n",
    "    if i not in movieid_set:\n",
    "        movieid_set.add(i)"
   ]
  },
  {
   "cell_type": "code",
   "execution_count": 9,
   "metadata": {},
   "outputs": [
    {
     "name": "stdout",
     "output_type": "stream",
     "text": [
      "671\n"
     ]
    }
   ],
   "source": [
    "print(len(userid_set))"
   ]
  },
  {
   "cell_type": "code",
   "execution_count": 10,
   "metadata": {},
   "outputs": [
    {
     "name": "stdout",
     "output_type": "stream",
     "text": [
      "9066\n"
     ]
    }
   ],
   "source": [
    "print(len(movieid_set))"
   ]
  },
  {
   "cell_type": "code",
   "execution_count": null,
   "metadata": {},
   "outputs": [],
   "source": []
  },
  {
   "cell_type": "code",
   "execution_count": null,
   "metadata": {},
   "outputs": [],
   "source": []
  },
  {
   "cell_type": "code",
   "execution_count": 11,
   "metadata": {},
   "outputs": [],
   "source": [
    "# TODO\n",
    "# Cast all floats to int since comparison and access\n",
    "# can be problematic later on in dict keys"
   ]
  },
  {
   "cell_type": "code",
   "execution_count": 12,
   "metadata": {},
   "outputs": [],
   "source": [
    "# creating a hash map of  movieId -> list of userIds \n",
    "# First create a threshold for the ratings to consider: rating_threshold\n",
    "# Then prune the hashmap to only include the movies which have been rated \n",
    "# (clearing the ratings_threshold) by at least say 50 number of users (usernum_threshold)\n",
    "\n",
    "# Could probably use faster pandas dataframe lambda methods to chunk out\n",
    "# lots of rows which have a rating value less than the threshold\n"
   ]
  },
  {
   "cell_type": "code",
   "execution_count": 13,
   "metadata": {},
   "outputs": [],
   "source": [
    "rating_threshold = 3.5\n",
    "movie_user_dict = defaultdict(list)\n",
    "\n",
    "# This step can be done efficiently\n",
    "# with lambda apply on pandas df\n",
    "for index, row in df.iterrows():    \n",
    "#     movId = row['movieId']\n",
    "    movId = int(row['movieId'])\n",
    "#     usrId = row['userId']\n",
    "    usrId = int(row['userId'])\n",
    "    rating = row['rating']       \n",
    "    \n",
    "    if rating >= rating_threshold:\n",
    "        movie_user_dict[movId].append(usrId)\n"
   ]
  },
  {
   "cell_type": "code",
   "execution_count": 14,
   "metadata": {},
   "outputs": [],
   "source": [
    "usernum_threshold = 50\n",
    "final_dict = {}\n",
    "\n",
    "for key,val in movie_user_dict.items():\n",
    "    if len(val) >= usernum_threshold:\n",
    "        final_dict[key] = val\n"
   ]
  },
  {
   "cell_type": "code",
   "execution_count": 15,
   "metadata": {},
   "outputs": [
    {
     "data": {
      "text/plain": [
       "258"
      ]
     },
     "execution_count": 15,
     "metadata": {},
     "output_type": "execute_result"
    }
   ],
   "source": [
    "len(final_dict)"
   ]
  },
  {
   "cell_type": "code",
   "execution_count": null,
   "metadata": {},
   "outputs": [],
   "source": []
  },
  {
   "cell_type": "code",
   "execution_count": 18,
   "metadata": {},
   "outputs": [],
   "source": [
    "x = set([2,7])\n",
    "y = set([1,2,4,4,3])"
   ]
  },
  {
   "cell_type": "code",
   "execution_count": 19,
   "metadata": {},
   "outputs": [
    {
     "name": "stdout",
     "output_type": "stream",
     "text": [
      "set([1, 2, 3, 4, 7])\n"
     ]
    }
   ],
   "source": [
    "x = x.union(y)\n",
    "print(x)"
   ]
  },
  {
   "cell_type": "code",
   "execution_count": null,
   "metadata": {},
   "outputs": [],
   "source": []
  },
  {
   "cell_type": "code",
   "execution_count": 20,
   "metadata": {},
   "outputs": [
    {
     "name": "stdout",
     "output_type": "stream",
     "text": [
      "661\n"
     ]
    }
   ],
   "source": [
    "# Calculate the total number of users. \n",
    "# Only consider the movies in final_dict\n",
    "# i.e after all the final thresholding\n",
    "\n",
    "total_users = set()\n",
    "for mov in final_dict.keys():\n",
    "    row = set(movie_user_dict[mov])\n",
    "    total_users = total_users.union(row)\n",
    "\n",
    "num_users = len(total_users)\n",
    "print(num_users)\n",
    "    "
   ]
  },
  {
   "cell_type": "code",
   "execution_count": 24,
   "metadata": {},
   "outputs": [
    {
     "name": "stdout",
     "output_type": "stream",
     "text": [
      "661.0\n"
     ]
    }
   ],
   "source": [
    "num_users = float(num_users)\n",
    "print(num_users)"
   ]
  },
  {
   "cell_type": "code",
   "execution_count": 25,
   "metadata": {},
   "outputs": [],
   "source": [
    "def findnum_common_elements(list1, list2):\n",
    "    return len(set(list1).intersection(list2))"
   ]
  },
  {
   "cell_type": "code",
   "execution_count": 26,
   "metadata": {},
   "outputs": [
    {
     "name": "stdout",
     "output_type": "stream",
     "text": [
      "[1, 2, 2987, 1028, 6, 10, 11, 1036, 33794, 54286, 527, 16, 17, 32587, 21, 1625, 25, 539, 541, 32, 2081, 34, 36, 1573, 39, 3114, 555, 1580, 47, 1584, 1073, 50, 1079, 1080, 68157, 62, 1089, 1090, 1035, 2628, 1097, 586, 587, 588, 589, 590, 592, 593, 595, 597, 953, 1380, 5989, 608, 104, 56367, 7438, 110, 111, 1136, 1653, 49272, 2683, 1148, 2174, 2916, 4226, 5995, 2692, 648, 3948, 2700, 141, 3949, 2599, 1682, 150, 1732, 40815, 2716, 44191, 161, 165, 3751, 1704, 1193, 3671, 1196, 1197, 1198, 1199, 1200, 1203, 1206, 1207, 1208, 1721, 1210, 8360, 6333, 1213, 1214, 58559, 7361, 1219, 1220, 1221, 1222, 1225, 2762, 1230, 3793, 1234, 1240, 6874, 2268, 733, 1246, 223, 736, 1250, 1252, 5349, 231, 745, 1258, 551, 2797, 750, 1265, 2291, 2804, 1270, 1784, 68954, 253, 1278, 8961, 260, 8874, 1288, 778, 1291, 780, 4878, 1923, 2324, 4886, 1304, 2329, 1307, 79132, 4896, 292, 293, 296, 2012, 2858, 300, 2791, 2355, 3471, 3897, 1247, 316, 318, 5952, 4011, 5445, 6711, 5418, 1356, 1358, 3408, 337, 339, 344, 858, 2395, 2396, 349, 1374, 4963, 356, 357, 2918, 4973, 1387, 364, 2194, 367, 1393, 1394, 4979, 2706, 6377, 377, 380, 5816, 6016, 4993, 899, 48516, 903, 904, 6539, 908, 910, 2959, 912, 913, 2115, 919, 920, 3481, 923, 924, 2571, 7153, 1961, 2502, 46578, 1968, 59315, 2997, 4022, 1259, 440, 500, 4027, 8636, 1610, 4034, 3147, 454, 457, 50872, 4306, 2000, 8665, 474, 2011, 1500, 60069, 480, 8368, 1617, 2028, 1517, 2542, 4995, 5618, 235, 3996, 1527, 3578, 508, 509]\n"
     ]
    }
   ],
   "source": [
    "movie_idlist = list(final_dict.keys())\n",
    "print(movie_idlist)"
   ]
  },
  {
   "cell_type": "code",
   "execution_count": 27,
   "metadata": {},
   "outputs": [],
   "source": [
    "count_matrix = {}\n",
    "\n",
    "for pair in itertools.combinations(movie_idlist, r=2):\n",
    "    mov1, mov2 = pair\n",
    "    count_matrix[pair] = findnum_common_elements(final_dict[mov1], final_dict[mov2])"
   ]
  },
  {
   "cell_type": "code",
   "execution_count": 28,
   "metadata": {},
   "outputs": [
    {
     "name": "stdout",
     "output_type": "stream",
     "text": [
      "33153\n"
     ]
    }
   ],
   "source": [
    "print(len(count_matrix))"
   ]
  },
  {
   "cell_type": "code",
   "execution_count": 31,
   "metadata": {},
   "outputs": [],
   "source": [
    "# Now just add the marginal counts to the count_matrix dict\n",
    "\n",
    "for k in final_dict.keys():\n",
    "    pair = (k,k)\n",
    "    count_matrix[pair] = len(final_dict[k])"
   ]
  },
  {
   "cell_type": "code",
   "execution_count": 32,
   "metadata": {},
   "outputs": [
    {
     "data": {
      "text/plain": [
       "12"
      ]
     },
     "execution_count": 32,
     "metadata": {},
     "output_type": "execute_result"
    }
   ],
   "source": [
    "count_matrix[(10,11)]"
   ]
  },
  {
   "cell_type": "code",
   "execution_count": 33,
   "metadata": {},
   "outputs": [
    {
     "data": {
      "text/plain": [
       "65"
      ]
     },
     "execution_count": 33,
     "metadata": {},
     "output_type": "execute_result"
    }
   ],
   "source": [
    "count_matrix[(10.0,10.0)]"
   ]
  },
  {
   "cell_type": "code",
   "execution_count": null,
   "metadata": {},
   "outputs": [],
   "source": []
  },
  {
   "cell_type": "code",
   "execution_count": 34,
   "metadata": {},
   "outputs": [
    {
     "name": "stdout",
     "output_type": "stream",
     "text": [
      "286\n"
     ]
    }
   ],
   "source": [
    "maxval = max([v for k,v in count_matrix.items()])\n",
    "print(maxval)    "
   ]
  },
  {
   "cell_type": "code",
   "execution_count": 42,
   "metadata": {},
   "outputs": [],
   "source": [
    "def marginal_prob(movie_id, count_matrix, num_users):\n",
    "    '''function to get the marginal prob:\n",
    "        P(movie_id1)       \n",
    "    '''\n",
    "    margn_count = count_matrix[(movie_id, movie_id)]\n",
    "    return margn_count * 1.0/num_users\n",
    "\n",
    "def joint_prob(movie_id1, movie_id2, count_matrix, num_users):\n",
    "    '''function to get the joint prob:\n",
    "        P(movie_id1, movie_id2)       \n",
    "    '''\n",
    "    if (movie_id1, movie_id2) not in count_matrix.keys():\n",
    "        key = (movie_id2, movie_id1)\n",
    "    else:\n",
    "        key = (movie_id1, movie_id2)\n",
    "    \n",
    "    joint_count = count_matrix[key]    \n",
    "    return joint_count * 1.0/num_users\n",
    "\n",
    "\n",
    "def conditional_prob(movie_id1, movie_id2, count_matrix):\n",
    "    '''function to get the conditional prob:\n",
    "        P(movie_id1 | movie_id2)       \n",
    "    '''\n",
    "    if (movie_id1, movie_id2) not in count_matrix.keys():\n",
    "        key = (movie_id2, movie_id1)\n",
    "    else:\n",
    "        key = (movie_id1, movie_id2)\n",
    "    \n",
    "    joint_count = count_matrix[key]\n",
    "    margn_count = count_matrix[movie_id2, movie_id2]\n",
    "    \n",
    "    return joint_count * 1.0/margn_count"
   ]
  },
  {
   "cell_type": "code",
   "execution_count": 43,
   "metadata": {},
   "outputs": [
    {
     "data": {
      "text/plain": [
       "33411"
      ]
     },
     "execution_count": 43,
     "metadata": {},
     "output_type": "execute_result"
    }
   ],
   "source": [
    "# count_matrix.keys()\n",
    "len(count_matrix)"
   ]
  },
  {
   "cell_type": "code",
   "execution_count": 44,
   "metadata": {},
   "outputs": [
    {
     "data": {
      "text/plain": [
       "0.09833585476550681"
      ]
     },
     "execution_count": 44,
     "metadata": {},
     "output_type": "execute_result"
    }
   ],
   "source": [
    "N = int(num_users)  # sanity check, to see whether we get valid results with int valued N (instead of a float)\n",
    "marginal_prob(10, count_matrix, N)"
   ]
  },
  {
   "cell_type": "code",
   "execution_count": 38,
   "metadata": {},
   "outputs": [
    {
     "data": {
      "text/plain": [
       "0.018154311649016642"
      ]
     },
     "execution_count": 38,
     "metadata": {},
     "output_type": "execute_result"
    }
   ],
   "source": [
    "joint_prob(10, 11, count_matrix, N)"
   ]
  },
  {
   "cell_type": "code",
   "execution_count": 39,
   "metadata": {},
   "outputs": [
    {
     "data": {
      "text/plain": [
       "0.1782178217821782"
      ]
     },
     "execution_count": 39,
     "metadata": {},
     "output_type": "execute_result"
    }
   ],
   "source": [
    "conditional_prob(10, 8961, count_matrix)"
   ]
  },
  {
   "cell_type": "code",
   "execution_count": 40,
   "metadata": {},
   "outputs": [
    {
     "name": "stdout",
     "output_type": "stream",
     "text": [
      "(25, 0.08695652173913043)\n",
      "(36, 0.08860759493670886)\n",
      "(608, 0.08205128205128205)\n",
      "(56367, 0.0847457627118644)\n",
      "(111, 0.07692307692307693)\n",
      "(5995, 0.09259259259259259)\n",
      "(2599, 0.07936507936507936)\n",
      "(1193, 0.08064516129032258)\n",
      "(1203, 0.046875)\n",
      "(58559, 0.0673076923076923)\n",
      "(1225, 0.06976744186046512)\n",
      "(1230, 0.047619047619047616)\n",
      "(1252, 0.04411764705882353)\n",
      "(745, 0.07547169811320754)\n",
      "(750, 0.05555555555555555)\n",
      "(68954, 0.07547169811320754)\n",
      "(1304, 0.09230769230769231)\n",
      "(79132, 0.08602150537634409)\n",
      "(1247, 0.04)\n",
      "(318, 0.0944055944055944)\n",
      "(1358, 0.058823529411764705)\n",
      "(2395, 0.05555555555555555)\n",
      "(1394, 0.07407407407407407)\n",
      "(899, 0.057692307692307696)\n",
      "(903, 0.06451612903225806)\n",
      "(904, 0.09411764705882353)\n",
      "(908, 0.06493506493506493)\n",
      "(912, 0.09278350515463918)\n",
      "(913, 0.03571428571428571)\n",
      "(920, 0.08928571428571429)\n",
      "(923, 0.08333333333333333)\n",
      "(924, 0.08695652173913043)\n",
      "(46578, 0.09375)\n",
      "(59315, 0.09230769230769231)\n",
      "(50872, 0.058823529411764705)\n",
      "(60069, 0.08928571428571429)\n"
     ]
    }
   ],
   "source": [
    "# Sample example\n",
    "# Conditioning CAN be less than the marginal! \n",
    "# ref: 2018-box-paper table-1\n",
    "\n",
    "for k in final_dict.keys():\n",
    "    p1 = conditional_prob(10, k, count_matrix)\n",
    "    p2 = marginal_prob(10, count_matrix, N)\n",
    "    if p1 <= p2:\n",
    "        print(k, p1)"
   ]
  },
  {
   "cell_type": "code",
   "execution_count": 47,
   "metadata": {},
   "outputs": [],
   "source": [
    "## Sample code to write a list to a text file\n",
    "# tst_list = [1,2,3,4,5,6]\n",
    "# with open('test.txt', 'w') as f:\n",
    "#     for item in tst_list:\n",
    "#         f.write(\"%s\\n\" % item)"
   ]
  },
  {
   "cell_type": "code",
   "execution_count": 49,
   "metadata": {},
   "outputs": [],
   "source": [
    "# Create the marginals file and a separate vocab file (for all the possible movieIds)\n",
    "# Consider only the diagonal entries in count_matrix\n",
    "# Also, the 2 lists work as follows: \n",
    "# marginals[i] == marginal_prob(movieid_vocab[i], count_matrix, num_users)\n",
    "# i.e the indices of both lists match on movieid and its marginal probability\n",
    "\n",
    "marginals = []\n",
    "movieid_vocab = []\n",
    "for key_pair in count_matrix.keys():\n",
    "    k1, k2 = key_pair\n",
    "    if k1 == k2:        \n",
    "        movieid_vocab.append(k1)\n",
    "        marginals.append(marginal_prob(k1, count_matrix, N))\n"
   ]
  },
  {
   "cell_type": "code",
   "execution_count": 51,
   "metadata": {},
   "outputs": [
    {
     "name": "stdout",
     "output_type": "stream",
     "text": [
      "[5989, 5349, 5418, 60069, 1617, 7153, 474, 778, 1358, 919, 16, 920, 316, 590, 50, 1704, 2959, 47, 1090, 1580, 2028, 2599, 923, 1252, 593, 1258, 1234, 912, 4027, 318, 3996, 4886, 1136, 2012, 367, 2762, 1356, 2683, 2396, 39, 2692, 551, 750, 440, 1732, 3751, 1250, 231, 17, 253, 6539, 357, 1374, 1220, 4878, 49272, 1682, 2324, 541, 3471, 587, 745, 5995, 6016, 1288, 527, 5618, 339, 2329, 454, 2987, 2797, 1517, 6874, 3793, 1500, 2174, 260, 349, 8360, 4995, 1304, 2, 150, 1221, 36, 5952, 539, 1200, 858, 68157, 292, 904, 1270, 2804, 1206, 1198, 2791, 11, 588, 293, 1240, 1721, 1230, 3949, 1265, 44191, 509, 1035, 1222, 4226, 1968, 344, 555, 104, 161, 736, 8368, 592, 1148, 1, 3897, 25, 56367, 2395, 910, 4896, 457, 1073, 2542, 2194, 4306, 59315, 4011, 223, 597, 8665, 33794, 58559, 2000, 79132, 3114, 1394, 1291, 2716, 1028, 7438, 1393, 8636, 1080, 1203, 68954, 2858, 235, 377, 1089, 924, 2011, 6711, 5445, 2115, 40815, 2081, 6333, 5816, 10, 2918, 4034, 34, 4963, 1097, 3147, 1213, 1210, 2355, 356, 1199, 1625, 6, 1584, 54286, 1259, 380, 508, 8874, 2706, 1196, 4993, 46578, 1380, 3408, 1036, 50872, 165, 62, 2502, 1961, 300, 337, 1193, 2571, 1247, 733, 2916, 4973, 589, 3481, 586, 1527, 8961, 32587, 2628, 1225, 364, 3671, 1784, 4979, 111, 4022, 2291, 648, 2268, 1653, 1610, 595, 1207, 3578, 6377, 141, 1219, 780, 913, 110, 908, 608, 1307, 899, 3948, 1923, 1387, 500, 1208, 2997, 1197, 953, 7361, 1573, 296, 21, 48516, 32, 1278, 2700, 903, 1214, 480, 1079, 1246]\n"
     ]
    }
   ],
   "source": [
    "print(movieid_vocab)"
   ]
  },
  {
   "cell_type": "code",
   "execution_count": 52,
   "metadata": {},
   "outputs": [],
   "source": [
    "# Write out the lists to text files\n",
    "fname_marginals = \"marginals.txt\"\n",
    "with open(fname_marginals, \"w\") as f:\n",
    "    for prob in marginals:\n",
    "        f.write(\"%s\\n\" % prob)        "
   ]
  },
  {
   "cell_type": "code",
   "execution_count": 53,
   "metadata": {},
   "outputs": [],
   "source": [
    "fname_vocab = \"movie_vocab.txt\"\n",
    "with open(fname_vocab, \"w\") as f:\n",
    "    for movid in movieid_vocab:\n",
    "        f.write(\"%s\\n\" % movid)        "
   ]
  },
  {
   "cell_type": "code",
   "execution_count": 56,
   "metadata": {},
   "outputs": [
    {
     "data": {
      "text/plain": [
       "0.1573373676248109"
      ]
     },
     "execution_count": 56,
     "metadata": {},
     "output_type": "execute_result"
    }
   ],
   "source": [
    "marginal_prob(1617, count_matrix, N) # just a sanity check for the values written in text files"
   ]
  },
  {
   "cell_type": "code",
   "execution_count": null,
   "metadata": {},
   "outputs": [],
   "source": []
  },
  {
   "cell_type": "code",
   "execution_count": 57,
   "metadata": {},
   "outputs": [],
   "source": [
    "# Now write out the pairwise conditional probs."
   ]
  },
  {
   "cell_type": "code",
   "execution_count": null,
   "metadata": {},
   "outputs": [],
   "source": [
    "# master text file for cond_probs. To be split later into trn, tst, and dev files.\n",
    "# format for each line is: \n",
    "# (rel, mov1, mov2, prob(mov2 | mov1))"
   ]
  },
  {
   "cell_type": "code",
   "execution_count": 66,
   "metadata": {},
   "outputs": [],
   "source": [
    "REL = \"IsWith\" # Instead of 'IsA' relation, we use 'IsWith'. Nothing substantially different.\n",
    "tup_list = []\n",
    "for key_pair in count_matrix.keys():\n",
    "    k1, k2 = key_pair\n",
    "    if k1 != k2:\n",
    "        prob_k2k1 = conditional_prob(k2, k1, count_matrix)\n",
    "        tmp_tup1 = (REL, k1, k2, prob_k2k1)        \n",
    "        tup_list.append(tmp_tup1)\n",
    "        \n",
    "        prob_k1k2 = conditional_prob(k1, k2, count_matrix)\n",
    "        tmp_tup2 = (REL, k2, k1, prob_k1k2)\n",
    "        tup_list.append(tmp_tup2)\n",
    "        "
   ]
  },
  {
   "cell_type": "code",
   "execution_count": 72,
   "metadata": {},
   "outputs": [
    {
     "data": {
      "text/plain": [
       "66306"
      ]
     },
     "execution_count": 72,
     "metadata": {},
     "output_type": "execute_result"
    }
   ],
   "source": [
    "len(tup_list)"
   ]
  },
  {
   "cell_type": "code",
   "execution_count": 76,
   "metadata": {},
   "outputs": [
    {
     "data": {
      "text/plain": [
       "[('IsWith', 1225, 474, 0.16279069767441862),\n",
       " ('IsWith', 474, 1225, 0.2545454545454545),\n",
       " ('IsWith', 79132, 1393, 0.17204301075268819),\n",
       " ('IsWith', 1393, 79132, 0.21621621621621623),\n",
       " ('IsWith', 6711, 924, 0.36363636363636365),\n",
       " ('IsWith', 924, 6711, 0.2608695652173913)]"
      ]
     },
     "execution_count": 76,
     "metadata": {},
     "output_type": "execute_result"
    }
   ],
   "source": [
    "tup_list[:6]"
   ]
  },
  {
   "cell_type": "code",
   "execution_count": 70,
   "metadata": {},
   "outputs": [
    {
     "data": {
      "text/plain": [
       "33411"
      ]
     },
     "execution_count": 70,
     "metadata": {},
     "output_type": "execute_result"
    }
   ],
   "source": [
    "len(count_matrix)"
   ]
  },
  {
   "cell_type": "code",
   "execution_count": 61,
   "metadata": {},
   "outputs": [
    {
     "data": {
      "text/plain": [
       "258"
      ]
     },
     "execution_count": 61,
     "metadata": {},
     "output_type": "execute_result"
    }
   ],
   "source": [
    "len(marginals)"
   ]
  },
  {
   "cell_type": "code",
   "execution_count": 62,
   "metadata": {},
   "outputs": [
    {
     "data": {
      "text/plain": [
       "66306"
      ]
     },
     "execution_count": 62,
     "metadata": {},
     "output_type": "execute_result"
    }
   ],
   "source": [
    "# sanity checks!\n",
    "(33411-258) * 2"
   ]
  },
  {
   "cell_type": "code",
   "execution_count": 71,
   "metadata": {},
   "outputs": [],
   "source": [
    "# this master file is essentially a csv file with delimiter as a blank space\n",
    "# using python's inbuilt csv library for that\n",
    "import csv\n",
    "fname_master = \"master_data.txt\"\n",
    "with open(fname_master, \"w\") as f:\n",
    "    writer = csv.writer(f, delimiter=' ', lineterminator='\\n')\n",
    "    writer.writerows(tup_list)        "
   ]
  },
  {
   "cell_type": "code",
   "execution_count": 78,
   "metadata": {},
   "outputs": [],
   "source": [
    "total = len(tup_list)\n",
    "splits = (0.8, 0.1, 0.1)\n",
    "trn_num = int(total * splits[0])\n",
    "dev_num = int(total * splits[1])\n",
    "tst_num = int(total * splits[2])\n",
    "\n",
    "if trn_num % 2 != 0:\n",
    "    trn_num += 1\n",
    "trn_split = trn_num\n",
    "\n",
    "if dev_num % 2 != 0:\n",
    "    dev_num += 1\n",
    "dev_split = trn_split + dev_num\n",
    "\n",
    "# REDUNDANT\n",
    "if tst_num % 2 != 0:\n",
    "    tst_num += 1\n",
    "tst_split = dev_split + tst_num\n",
    "\n",
    "trn_data = tup_list[:trn_split]\n",
    "dev_data = tup_list[trn_split : dev_split]\n",
    "tst_data = tup_list[dev_split:]\n",
    "\n"
   ]
  },
  {
   "cell_type": "code",
   "execution_count": 79,
   "metadata": {},
   "outputs": [
    {
     "data": {
      "text/plain": [
       "53044"
      ]
     },
     "execution_count": 79,
     "metadata": {},
     "output_type": "execute_result"
    }
   ],
   "source": [
    "len(trn_data)"
   ]
  },
  {
   "cell_type": "code",
   "execution_count": 80,
   "metadata": {},
   "outputs": [
    {
     "data": {
      "text/plain": [
       "6630"
      ]
     },
     "execution_count": 80,
     "metadata": {},
     "output_type": "execute_result"
    }
   ],
   "source": [
    "len(dev_data)"
   ]
  },
  {
   "cell_type": "code",
   "execution_count": 81,
   "metadata": {},
   "outputs": [
    {
     "data": {
      "text/plain": [
       "6632"
      ]
     },
     "execution_count": 81,
     "metadata": {},
     "output_type": "execute_result"
    }
   ],
   "source": [
    "len(tst_data)"
   ]
  },
  {
   "cell_type": "code",
   "execution_count": 82,
   "metadata": {},
   "outputs": [],
   "source": [
    "# write out the training file\n",
    "# using python's inbuilt csv library for that\n",
    "import csv\n",
    "fname = \"movie_train.txt\"\n",
    "with open(fname, \"w\") as f:\n",
    "    writer = csv.writer(f, delimiter=' ', lineterminator='\\n')\n",
    "    writer.writerows(trn_data)        "
   ]
  },
  {
   "cell_type": "code",
   "execution_count": 83,
   "metadata": {},
   "outputs": [],
   "source": [
    "# write out the training file\n",
    "# using python's inbuilt csv library for that\n",
    "import csv\n",
    "fname = \"movie_test.txt\"\n",
    "with open(fname, \"w\") as f:\n",
    "    writer = csv.writer(f, delimiter=' ', lineterminator='\\n')\n",
    "    writer.writerows(tst_data)        "
   ]
  },
  {
   "cell_type": "code",
   "execution_count": 84,
   "metadata": {},
   "outputs": [],
   "source": [
    "# write out the training file\n",
    "# using python's inbuilt csv library for that\n",
    "import csv\n",
    "fname = \"movie_dev.txt\"\n",
    "with open(fname, \"w\") as f:\n",
    "    writer = csv.writer(f, delimiter=' ', lineterminator='\\n')\n",
    "    writer.writerows(dev_data)        "
   ]
  },
  {
   "cell_type": "code",
   "execution_count": null,
   "metadata": {},
   "outputs": [],
   "source": []
  },
  {
   "cell_type": "code",
   "execution_count": null,
   "metadata": {},
   "outputs": [],
   "source": []
  },
  {
   "cell_type": "code",
   "execution_count": null,
   "metadata": {},
   "outputs": [],
   "source": []
  },
  {
   "cell_type": "code",
   "execution_count": null,
   "metadata": {},
   "outputs": [],
   "source": []
  },
  {
   "cell_type": "code",
   "execution_count": null,
   "metadata": {},
   "outputs": [],
   "source": []
  },
  {
   "cell_type": "code",
   "execution_count": null,
   "metadata": {},
   "outputs": [],
   "source": []
  },
  {
   "cell_type": "code",
   "execution_count": null,
   "metadata": {},
   "outputs": [],
   "source": [
    "# METADATA ACCESS -- for genres.\n",
    "\n",
    "metadata_file = datadir + 'movies_metadata.csv'\n",
    "df_metadata = pd.read_csv(metadata_file, delimiter=',')\n"
   ]
  },
  {
   "cell_type": "code",
   "execution_count": null,
   "metadata": {},
   "outputs": [],
   "source": [
    "df_metadata.columns"
   ]
  },
  {
   "cell_type": "code",
   "execution_count": null,
   "metadata": {},
   "outputs": [],
   "source": [
    "df_metadata.head(5)"
   ]
  },
  {
   "cell_type": "code",
   "execution_count": null,
   "metadata": {},
   "outputs": [],
   "source": [
    "df_meta = df_meta[['genres', 'id']]"
   ]
  },
  {
   "cell_type": "code",
   "execution_count": null,
   "metadata": {},
   "outputs": [],
   "source": [
    "df_meta.head(5)"
   ]
  },
  {
   "cell_type": "code",
   "execution_count": null,
   "metadata": {},
   "outputs": [],
   "source": [
    "df_meta.loc[0].id"
   ]
  },
  {
   "cell_type": "code",
   "execution_count": null,
   "metadata": {},
   "outputs": [],
   "source": [
    "print(df_meta.loc[0,'genres'])"
   ]
  },
  {
   "cell_type": "code",
   "execution_count": null,
   "metadata": {},
   "outputs": [],
   "source": [
    "x = df_meta.loc[0,'genres']\n",
    "print(type(x))\n",
    "print(x)"
   ]
  },
  {
   "cell_type": "code",
   "execution_count": null,
   "metadata": {},
   "outputs": [],
   "source": [
    "s = x.split('},')\n",
    "print(s)"
   ]
  },
  {
   "cell_type": "code",
   "execution_count": null,
   "metadata": {},
   "outputs": [],
   "source": [
    "tmp = ast.literal_eval(x)\n",
    "print(type(tmp))\n",
    "print(tmp)"
   ]
  },
  {
   "cell_type": "code",
   "execution_count": null,
   "metadata": {},
   "outputs": [],
   "source": [
    "ids = []\n",
    "gen = []\n",
    "\n",
    "for d in tmp:\n",
    "    ids.append(d['id'])\n",
    "    gen.append(d['name'])\n",
    "\n",
    "print(ids, gen)"
   ]
  },
  {
   "cell_type": "code",
   "execution_count": null,
   "metadata": {},
   "outputs": [],
   "source": [
    "s0=s[0]\n",
    "print(s0)"
   ]
  },
  {
   "cell_type": "code",
   "execution_count": null,
   "metadata": {},
   "outputs": [],
   "source": [
    "i = s0.find('id')\n",
    "n = s0.find('name')\n",
    "print(s0[i+5:n-3]) # the genre id\n",
    "print(s0[n+8:-1])"
   ]
  },
  {
   "cell_type": "code",
   "execution_count": null,
   "metadata": {},
   "outputs": [],
   "source": [
    "s1 = s[1]\n",
    "i = s1.find('id')\n",
    "n = s1.find('name')\n",
    "print(s1[i+5:n-3]) # the genre id\n",
    "print(s1[n+8:-1])"
   ]
  },
  {
   "cell_type": "code",
   "execution_count": null,
   "metadata": {},
   "outputs": [],
   "source": []
  },
  {
   "cell_type": "code",
   "execution_count": null,
   "metadata": {},
   "outputs": [],
   "source": [
    "\n",
    "# def get_genId_genres(genres_json, id_to_genre):\n",
    "#     '''\n",
    "#     id_to_genre: its like a global dict to store the mappings \n",
    "#                 from the genre-id to genre-name\n",
    "#     '''\n",
    "#     if not genres_json:\n",
    "#         return None\n",
    "    \n",
    "#     splits = genres_json.split('},')\n",
    "    \n",
    "#     ids_list = []\n",
    "#     gen_list = []           \n",
    "    \n",
    "#     for s in splits:\n",
    "#         i = s.find('id')\n",
    "#         n = s.find('name')\n",
    "#         # print(s[i+5:n-3]) # genre id\n",
    "#         # print(s[n+8:-1])  # genre name\n",
    "#         id_num = int(s[i+5:n-3])\n",
    "#         genre_name = s[n+8:-1]\n",
    "#         ids_list.append(id_num)\n",
    "#         gen_list.append(genre_name)\n",
    "        \n",
    "#         if id_num not in id_to_genre:\n",
    "#             id_to_genre[id_num] = genre_name\n",
    "    \n",
    "#     return ids_list, gen_list, id_to_genre\n",
    "\n",
    "\n",
    "\n",
    "def get_genres(genres_json, id_to_genre):\n",
    "    '''\n",
    "    id_to_genre: its like a global dict to store the mappings \n",
    "                from the genre-id to genre-name\n",
    "    '''\n",
    "    if not genres_json:\n",
    "        return None\n",
    "    \n",
    "    tmp = ast.literal_eval(genres_json)\n",
    "    ids_list = []\n",
    "    gen_list = []           \n",
    "    \n",
    "    for d in tmp:\n",
    "        id_num = d['id']\n",
    "        genre_name = d['name']\n",
    "        ids_list.append(id_num)\n",
    "        gen_list.append(genre_name)\n",
    "        \n",
    "        if id_num not in id_to_genre:\n",
    "            id_to_genre[id_num] = genre_name\n",
    "    \n",
    "    return ids_list, gen_list, id_to_genre\n"
   ]
  },
  {
   "cell_type": "code",
   "execution_count": null,
   "metadata": {},
   "outputs": [],
   "source": [
    "idd = {}\n",
    "get_genres(x, idd)"
   ]
  },
  {
   "cell_type": "code",
   "execution_count": null,
   "metadata": {},
   "outputs": [],
   "source": [
    "genid_dict = {}\n",
    "genname_dict = {}\n",
    "gen_counts = defaultdict(int) # counting the genre-genre pairs\n",
    "id_to_genre = {}\n",
    "\n",
    "for index, row in df_meta.iterrows():    \n",
    "    \n",
    "    try:\n",
    "        movId = int(row['id'])\n",
    "        gen_json = row['genres']\n",
    "    \n",
    "        ids, genres, id_to_genre = get_genres(gen_json, id_to_genre)    \n",
    "        genid_dict[movId] = ids\n",
    "        genname_dict[movId] = genres\n",
    "\n",
    "        for i in ids:\n",
    "            singleton_pair = (i, i)\n",
    "            gen_counts[singleton_pair] += 1\n",
    "\n",
    "        for pair in itertools.combinations(ids, r=2):\n",
    "            # id1, id2 = pair\n",
    "            gen_counts[pair] += 1\n",
    "            \n",
    "    except Exception as e:\n",
    "        print(index, row['id'])\n",
    "        repr(e)\n"
   ]
  },
  {
   "cell_type": "code",
   "execution_count": null,
   "metadata": {},
   "outputs": [],
   "source": [
    "print(id_to_genre)\n",
    "print(len(id_to_genre))"
   ]
  },
  {
   "cell_type": "code",
   "execution_count": null,
   "metadata": {},
   "outputs": [],
   "source": [
    "genid_dict"
   ]
  },
  {
   "cell_type": "code",
   "execution_count": null,
   "metadata": {},
   "outputs": [],
   "source": [
    "genname_dict"
   ]
  },
  {
   "cell_type": "code",
   "execution_count": null,
   "metadata": {},
   "outputs": [],
   "source": [
    "gen_counts"
   ]
  },
  {
   "cell_type": "code",
   "execution_count": null,
   "metadata": {},
   "outputs": [],
   "source": [
    "import operator\n",
    "for w in sorted(gen_counts, key=gen_counts.get, reverse=True):\n",
    "    val = gen_counts[w]\n",
    "    g1 = id_to_genre[w[0]]\n",
    "    g2 = id_to_genre[w[1]]\n",
    "    print(g1, g2, val)"
   ]
  },
  {
   "cell_type": "code",
   "execution_count": null,
   "metadata": {},
   "outputs": [],
   "source": [
    "diffdict = {}\n",
    "for k,v in gen_counts.items():\n",
    "    if k[0] != k[1]:\n",
    "        p1 = gen_counts[k]/gen_counts[(k[0],k[0])]\n",
    "        p2 = gen_counts[k]/gen_counts[(k[1],k[1])]\n",
    "        diff = p1 - p2\n",
    "        diffdict[k] = diff\n",
    "\n",
    "        "
   ]
  },
  {
   "cell_type": "code",
   "execution_count": null,
   "metadata": {},
   "outputs": [],
   "source": [
    "# getting a crude map\n",
    "\n",
    "for w in sorted(diffdict, key=diffdict.get, reverse=True):\n",
    "    val = diffdict[w]\n",
    "    g1 = id_to_genre[w[0]]\n",
    "    g2 = id_to_genre[w[1]]\n",
    "    print(g1, g2, val)"
   ]
  },
  {
   "cell_type": "code",
   "execution_count": null,
   "metadata": {},
   "outputs": [],
   "source": []
  },
  {
   "cell_type": "code",
   "execution_count": null,
   "metadata": {},
   "outputs": [],
   "source": []
  },
  {
   "cell_type": "code",
   "execution_count": null,
   "metadata": {},
   "outputs": [],
   "source": []
  }
 ],
 "metadata": {
  "kernelspec": {
   "display_name": "Python 2",
   "language": "python",
   "name": "python2"
  },
  "language_info": {
   "codemirror_mode": {
    "name": "ipython",
    "version": 2
   },
   "file_extension": ".py",
   "mimetype": "text/x-python",
   "name": "python",
   "nbconvert_exporter": "python",
   "pygments_lexer": "ipython2",
   "version": "2.7.15"
  }
 },
 "nbformat": 4,
 "nbformat_minor": 2
}

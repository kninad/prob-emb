{
 "cells": [
  {
   "cell_type": "code",
   "execution_count": 24,
   "metadata": {},
   "outputs": [],
   "source": [
    "import os \n",
    "import numpy as np \n",
    "import pandas as pd\n",
    "from collections import defaultdict\n",
    "import itertools"
   ]
  },
  {
   "cell_type": "code",
   "execution_count": 2,
   "metadata": {},
   "outputs": [],
   "source": [
    "datadir = '../../data/the-movies-dataset/'"
   ]
  },
  {
   "cell_type": "code",
   "execution_count": 3,
   "metadata": {},
   "outputs": [],
   "source": [
    "small_ratings_file = datadir + 'ratings_small.csv'\n",
    "df = pd.read_csv(small_ratings_file, delimiter=',')"
   ]
  },
  {
   "cell_type": "code",
   "execution_count": 4,
   "metadata": {},
   "outputs": [
    {
     "name": "stdout",
     "output_type": "stream",
     "text": [
      "Index(['userId', 'movieId', 'rating', 'timestamp'], dtype='object')\n"
     ]
    }
   ],
   "source": [
    "df.dataframeName = 'ratings_small.csv'\n",
    "print(df.columns)"
   ]
  },
  {
   "cell_type": "code",
   "execution_count": 5,
   "metadata": {},
   "outputs": [
    {
     "name": "stdout",
     "output_type": "stream",
     "text": [
      "   userId  movieId  rating   timestamp\n",
      "0       1       31     2.5  1260759144\n",
      "1       1     1029     3.0  1260759179\n",
      "2       1     1061     3.0  1260759182\n",
      "3       1     1129     2.0  1260759185\n",
      "4       1     1172     4.0  1260759205\n"
     ]
    }
   ],
   "source": [
    "df.drop(columns=['timestamp'])\n",
    "print(df.head(5))"
   ]
  },
  {
   "cell_type": "code",
   "execution_count": 6,
   "metadata": {},
   "outputs": [
    {
     "name": "stdout",
     "output_type": "stream",
     "text": [
      "163949\n",
      "1\n"
     ]
    }
   ],
   "source": [
    "print (max(df['movieId']))\n",
    "print (min(df['movieId']))"
   ]
  },
  {
   "cell_type": "code",
   "execution_count": 7,
   "metadata": {},
   "outputs": [
    {
     "name": "stdout",
     "output_type": "stream",
     "text": [
      "671\n",
      "1\n"
     ]
    }
   ],
   "source": [
    "print (max(df['userId']))\n",
    "print (min(df['userId']))"
   ]
  },
  {
   "cell_type": "code",
   "execution_count": 8,
   "metadata": {},
   "outputs": [],
   "source": [
    "userid_set = set()\n",
    "movieid_set = set()\n",
    "\n",
    "for i in df['userId']:\n",
    "    if i not in userid_set:\n",
    "        userid_set.add(i)\n",
    "\n",
    "for i in df['movieId']:\n",
    "    if i not in movieid_set:\n",
    "        movieid_set.add(i)"
   ]
  },
  {
   "cell_type": "code",
   "execution_count": 9,
   "metadata": {},
   "outputs": [
    {
     "name": "stdout",
     "output_type": "stream",
     "text": [
      "671\n"
     ]
    }
   ],
   "source": [
    "print(len(userid_set))"
   ]
  },
  {
   "cell_type": "code",
   "execution_count": 10,
   "metadata": {},
   "outputs": [
    {
     "name": "stdout",
     "output_type": "stream",
     "text": [
      "9066\n"
     ]
    }
   ],
   "source": [
    "print(len(movieid_set))"
   ]
  },
  {
   "cell_type": "code",
   "execution_count": null,
   "metadata": {},
   "outputs": [],
   "source": []
  },
  {
   "cell_type": "code",
   "execution_count": null,
   "metadata": {},
   "outputs": [],
   "source": []
  },
  {
   "cell_type": "code",
   "execution_count": null,
   "metadata": {},
   "outputs": [],
   "source": []
  },
  {
   "cell_type": "code",
   "execution_count": 14,
   "metadata": {},
   "outputs": [],
   "source": [
    "# creating a hash map of  movieId -> list of userIds \n",
    "# First create a threshold for the ratings to consider: rating_threshold\n",
    "# Then prune the hashmap to only include the movies which have been rated \n",
    "# (clearing the ratings_threshold) by at least say 50 number of users (usernum_threshold)\n",
    "\n",
    "# Could probably use faster pandas dataframe lambda methods to chunk out\n",
    "# lots of rows which have a rating value less than the threshold\n"
   ]
  },
  {
   "cell_type": "code",
   "execution_count": 15,
   "metadata": {},
   "outputs": [],
   "source": [
    "rating_threshold = 3.5\n",
    "movie_user_dict = defaultdict(list)\n",
    "\n",
    "for index, row in df.iterrows():    \n",
    "    movId = row['movieId']\n",
    "    usrId = row['userId']\n",
    "    rating = row['rating']\n",
    "    \n",
    "    if rating >= rating_threshold:\n",
    "        movie_user_dict[movId].append(usrId)\n"
   ]
  },
  {
   "cell_type": "code",
   "execution_count": 17,
   "metadata": {},
   "outputs": [],
   "source": [
    "usernum_threshold = 50\n",
    "final_dict = {}\n",
    "\n",
    "for key,val in movie_user_dict.items():\n",
    "    if len(val) >= usernum_threshold:\n",
    "        final_dict[key] = val\n"
   ]
  },
  {
   "cell_type": "code",
   "execution_count": 19,
   "metadata": {},
   "outputs": [
    {
     "data": {
      "text/plain": [
       "258"
      ]
     },
     "execution_count": 19,
     "metadata": {},
     "output_type": "execute_result"
    }
   ],
   "source": [
    "len(final_dict)"
   ]
  },
  {
   "cell_type": "code",
   "execution_count": 21,
   "metadata": {},
   "outputs": [],
   "source": [
    "def findnum_common_elements(list1, list2):\n",
    "    return len(set(list1).intersection(list2))"
   ]
  },
  {
   "cell_type": "code",
   "execution_count": 23,
   "metadata": {},
   "outputs": [
    {
     "name": "stdout",
     "output_type": "stream",
     "text": [
      "[10.0, 17.0, 39.0, 47.0, 50.0, 110.0, 150.0, 253.0, 296.0, 349.0, 454.0, 480.0, 500.0, 508.0, 509.0, 527.0, 551.0, 589.0, 590.0, 592.0, 318.0, 356.0, 736.0, 778.0, 1197.0, 1580.0, 1721.0, 2028.0, 2762.0, 2858.0, 2959.0, 3949.0, 44191.0, 34.0, 141.0, 260.0, 357.0, 364.0, 367.0, 440.0, 541.0, 588.0, 858.0, 903.0, 910.0, 913.0, 919.0, 1028.0, 1036.0, 1073.0, 1079.0, 1089.0, 1097.0, 1136.0, 1196.0, 1198.0, 1200.0, 1206.0, 1208.0, 1210.0, 1213.0, 1214.0, 1219.0, 1220.0, 1222.0, 1225.0, 1230.0, 1240.0, 1258.0, 1259.0, 1265.0, 1270.0, 1278.0, 1288.0, 1291.0, 1307.0, 1356.0, 1374.0, 1380.0, 1387.0, 1961.0, 1968.0, 2000.0, 2081.0, 2115.0, 2174.0, 2194.0, 2268.0, 2628.0, 2683.0, 2716.0, 2791.0, 2797.0, 2804.0, 2916.0, 2918.0, 2987.0, 104.0, 231.0, 344.0, 377.0, 586.0, 595.0, 597.0, 1035.0, 1247.0, 1393.0, 1682.0, 1784.0, 1923.0, 2355.0, 2502.0, 2706.0, 2997.0, 3114.0, 3408.0, 3897.0, 3948.0, 4022.0, 4306.0, 4995.0, 5349.0, 5995.0, 6377.0, 8636.0, 111.0, 293.0, 1250.0, 2692.0, 5952.0, 7153.0, 7361.0, 8368.0, 8874.0, 380.0, 745.0, 924.0, 1080.0, 1148.0, 32.0, 457.0, 593.0, 1500.0, 1617.0, 1625.0, 1704.0, 2324.0, 2329.0, 2571.0, 3147.0, 3578.0, 3996.0, 4011.0, 4034.0, 4226.0, 4886.0, 4896.0, 4963.0, 4973.0, 4993.0, 5445.0, 5989.0, 6874.0, 7438.0, 32587.0, 33794.0, 1.0, 36.0, 608.0, 1358.0, 1584.0, 2291.0, 2396.0, 923.0, 48516.0, 79132.0, 3793.0, 4878.0, 54286.0, 58559.0, 3751.0, 6.0, 16.0, 21.0, 223.0, 235.0, 300.0, 555.0, 648.0, 733.0, 750.0, 899.0, 904.0, 908.0, 912.0, 920.0, 1193.0, 1203.0, 1221.0, 1234.0, 1252.0, 1394.0, 1573.0, 1732.0, 2395.0, 3471.0, 3481.0, 4979.0, 6539.0, 6711.0, 8665.0, 49272.0, 50872.0, 59315.0, 60069.0, 337.0, 1653.0, 2012.0, 6016.0, 25.0, 1199.0, 1246.0, 2011.0, 5418.0, 62.0, 292.0, 339.0, 953.0, 1090.0, 1207.0, 316.0, 780.0, 5618.0, 1527.0, 2542.0, 5816.0, 6333.0, 8360.0, 8961.0, 11.0, 1304.0, 2599.0, 3671.0, 4027.0, 165.0, 68157.0, 68954.0, 1610.0, 161.0, 474.0, 2.0, 40815.0, 2700.0, 46578.0, 56367.0, 587.0, 1517.0, 539.0]\n"
     ]
    }
   ],
   "source": [
    "movie_idlist = list(final_dict.keys())\n",
    "print(movie_idlist)"
   ]
  },
  {
   "cell_type": "code",
   "execution_count": 28,
   "metadata": {},
   "outputs": [],
   "source": [
    "\n",
    "count_matrix = {}\n",
    "\n",
    "for pair in itertools.combinations(movie_idlist, r=2):\n",
    "    mov1, mov2 = pair\n",
    "    count_matrix[pair] = findnum_common_elements(final_dict[mov1], final_dict[mov2])"
   ]
  },
  {
   "cell_type": "code",
   "execution_count": 30,
   "metadata": {},
   "outputs": [
    {
     "name": "stdout",
     "output_type": "stream",
     "text": [
      "33153\n"
     ]
    }
   ],
   "source": [
    "print(len(count_matrix))"
   ]
  },
  {
   "cell_type": "code",
   "execution_count": null,
   "metadata": {},
   "outputs": [],
   "source": []
  },
  {
   "cell_type": "code",
   "execution_count": null,
   "metadata": {},
   "outputs": [],
   "source": []
  }
 ],
 "metadata": {
  "kernelspec": {
   "display_name": "Python 3",
   "language": "python",
   "name": "python3"
  },
  "language_info": {
   "codemirror_mode": {
    "name": "ipython",
    "version": 3
   },
   "file_extension": ".py",
   "mimetype": "text/x-python",
   "name": "python",
   "nbconvert_exporter": "python",
   "pygments_lexer": "ipython3",
   "version": "3.6.5"
  }
 },
 "nbformat": 4,
 "nbformat_minor": 2
}

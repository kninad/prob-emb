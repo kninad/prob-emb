{
 "cells": [
  {
   "cell_type": "code",
   "execution_count": 4,
   "metadata": {},
   "outputs": [],
   "source": [
    "import os \n",
    "import numpy as np \n",
    "import pandas as pd\n",
    "from collections import defaultdict\n",
    "import itertools"
   ]
  },
  {
   "cell_type": "code",
   "execution_count": 5,
   "metadata": {},
   "outputs": [],
   "source": [
    "datadir = '../../data/goodbooks-10k-master/'"
   ]
  },
  {
   "cell_type": "code",
   "execution_count": 6,
   "metadata": {},
   "outputs": [],
   "source": [
    "ratings_file = datadir + 'ratings.csv'\n",
    "df = pd.read_csv(ratings_file, delimiter=',')"
   ]
  },
  {
   "cell_type": "code",
   "execution_count": 7,
   "metadata": {},
   "outputs": [
    {
     "name": "stdout",
     "output_type": "stream",
     "text": [
      "Index(['user_id', 'book_id', 'rating'], dtype='object')\n"
     ]
    }
   ],
   "source": [
    "df.dataframeName = 'ratings.csv'\n",
    "print(df.columns)"
   ]
  },
  {
   "cell_type": "code",
   "execution_count": 8,
   "metadata": {},
   "outputs": [
    {
     "name": "stdout",
     "output_type": "stream",
     "text": [
      "   user_id  book_id  rating\n",
      "0        1      258       5\n",
      "1        2     4081       4\n",
      "2        2      260       5\n",
      "3        2     9296       5\n",
      "4        2     2318       3\n"
     ]
    }
   ],
   "source": [
    "print(df.head(5))"
   ]
  },
  {
   "cell_type": "code",
   "execution_count": 9,
   "metadata": {},
   "outputs": [
    {
     "name": "stdout",
     "output_type": "stream",
     "text": [
      "10000 1\n",
      "53424 1\n",
      "5 1\n",
      "5976479\n"
     ]
    }
   ],
   "source": [
    "print (max(df['book_id']), min(df['book_id']))\n",
    "print (max(df['user_id']), min(df['user_id']))\n",
    "print (max(df['rating']), min(df['rating']))\n",
    "print(len(df))"
   ]
  },
  {
   "cell_type": "code",
   "execution_count": 10,
   "metadata": {},
   "outputs": [
    {
     "name": "stdout",
     "output_type": "stream",
     "text": [
      "4122111\n",
      "53406\n",
      "10000\n"
     ]
    }
   ],
   "source": [
    "#First create a threshold for the ratings to consider: rating_threshold\n",
    "#Drop all entry with rating lower than the threshold\n",
    "rating_threshold = 3.5\n",
    "df = df[df.rating >= rating_threshold]\n",
    "print(len(df))\n",
    "user_id_set = set(df['user_id'])\n",
    "movie_id_set = set(df['book_id'])\n",
    "print(len(user_id_set))\n",
    "print(len(movie_id_set))"
   ]
  },
  {
   "cell_type": "code",
   "execution_count": null,
   "metadata": {},
   "outputs": [],
   "source": [
    "###Question, can we use the rating below for ex, 2.5 as an negative association?"
   ]
  },
  {
   "cell_type": "code",
   "execution_count": 21,
   "metadata": {},
   "outputs": [
    {
     "name": "stdout",
     "output_type": "stream",
     "text": [
      "53406\n"
     ]
    }
   ],
   "source": [
    "#dict with key: user, val: the bookID usr rated above given threshold\n",
    "user_dict = defaultdict(list)\n",
    "for index, row in df.iterrows():    \n",
    "    bookId = int(row['book_id'])\n",
    "    usrId = int(row['user_id'])\n",
    "    user_dict[usrId].append(bookId)\n",
    "print(len(user_dict))"
   ]
  },
  {
   "cell_type": "code",
   "execution_count": 29,
   "metadata": {},
   "outputs": [],
   "source": [
    "#marginal counts included, without marginal counts, the dict len is 20537173\n",
    "#also, not using usernum threshold here, we do not remove all records about the movie if, it does not have more than 50 user entries\n",
    "#if a book_book pair count is too little we can delete the entry as well. not yet implemented\n",
    "book_book_count =  defaultdict(lambda: 0)\n",
    "for key, val in user_dict.items():\n",
    "    for i in range(len(val)):\n",
    "        for j in range(i, len(val)):\n",
    "            book_book_count[(val[i], val[j]) if val[i] <= val[j] else (val[j], val[i])] += 1  "
   ]
  },
  {
   "cell_type": "code",
   "execution_count": 30,
   "metadata": {},
   "outputs": [
    {
     "name": "stdout",
     "output_type": "stream",
     "text": [
      "20547173\n"
     ]
    }
   ],
   "source": [
    "print(len(book_book_count))"
   ]
  },
  {
   "cell_type": "code",
   "execution_count": 44,
   "metadata": {},
   "outputs": [
    {
     "name": "stdout",
     "output_type": "stream",
     "text": [
      "3120\n",
      "3120\n",
      "10562\n"
     ]
    }
   ],
   "source": [
    "print(book_book_count[(10,11)])\n",
    "print(book_book_count[(10.0,11.0)])\n",
    "print(book_book_count[(10,10)])"
   ]
  },
  {
   "cell_type": "code",
   "execution_count": 38,
   "metadata": {},
   "outputs": [
    {
     "name": "stdout",
     "output_type": "stream",
     "text": [
      "18926\n"
     ]
    }
   ],
   "source": [
    "maxval = max([v for k,v in book_book_count.items()])\n",
    "print(maxval)"
   ]
  },
  {
   "cell_type": "code",
   "execution_count": 56,
   "metadata": {},
   "outputs": [],
   "source": [
    "def marginal_prob(movie_id, count_matrix, num_users):\n",
    "    '''function to get the marginal prob:\n",
    "        P(movie_id1)       \n",
    "    '''\n",
    "    margn_count = count_matrix[(movie_id, movie_id)]\n",
    "    return margn_count/num_users\n",
    "\n",
    "\n",
    "def joint_prob(movie_id1, movie_id2, count_matrix, num_users):\n",
    "    '''function to get the joint prob:\n",
    "        P(movie_id1, movie_id2)\n",
    "    '''\n",
    "    key = (movie_id1, movie_id2) if movie_id1<= movie_id2 else (movie_id2, movie_id1) \n",
    "    joint_count = count_matrix[key] \n",
    "    return joint_count/num_users\n",
    "\n",
    "\n",
    "def conditional_prob(movie_id1, movie_id2, count_matrix):\n",
    "    '''function to get the conditional prob:\n",
    "        P(movie_id1 | movie_id2)       \n",
    "    '''\n",
    "    key = (movie_id1, movie_id2) if movie_id1<= movie_id2 else (movie_id2, movie_id1)\n",
    "    joint_count = count_matrix[key]\n",
    "    margn_count = count_matrix[movie_id2, movie_id2]\n",
    "    return joint_count/margn_count"
   ]
  },
  {
   "cell_type": "code",
   "execution_count": 58,
   "metadata": {},
   "outputs": [
    {
     "name": "stdout",
     "output_type": "stream",
     "text": [
      "53406\n",
      "1 53424\n",
      "marginal\n",
      "0.19776804104407744\n",
      "0.1897165112534172\n",
      "joint\n",
      "0.058420402201999774\n",
      "0.058420402201999774\n",
      "conditional\n",
      "0.30793525463876825\n",
      "0.2953985987502367\n",
      "\n"
     ]
    }
   ],
   "source": [
    "num_users = len(user_id_set)\n",
    "print(num_users)\n",
    "print(min(user_id_set), max(user_id_set))\n",
    "print(\"marginal\")\n",
    "print(marginal_prob(10, book_book_count, num_users))\n",
    "print(marginal_prob(11, book_book_count, num_users))\n",
    "print(\"joint\")\n",
    "print(joint_prob(10, 11, book_book_count, num_users))\n",
    "print(joint_prob(11, 10, book_book_count, num_users))\n",
    "print(\"conditional\")\n",
    "print(conditional_prob(10, 11, book_book_count))\n",
    "print(conditional_prob(11, 10, book_book_count))\n",
    "print()"
   ]
  },
  {
   "cell_type": "code",
   "execution_count": null,
   "metadata": {},
   "outputs": [],
   "source": [
    "#now we have the book_book_pair and the methods to calculate any pair's joint/ conditional\n",
    "#prob, if we need, we can generate the entire joint/conditional prob matrix as well."
   ]
  },
  {
   "cell_type": "code",
   "execution_count": null,
   "metadata": {},
   "outputs": [],
   "source": [
    "'''\n",
    "# Sample example\n",
    "# Conditioning CAN be less than the marginal! \n",
    "# ref: 2018-box-paper table-1\n",
    "\n",
    "for k in final_dict.keys():\n",
    "    p1 = conditional_prob(10, k, count_matrix)\n",
    "    p2 = marginal_prob(10, count_matrix, N)\n",
    "    if p1 <= p2:\n",
    "        print(k, p1)\n",
    "'''"
   ]
  },
  {
   "cell_type": "code",
   "execution_count": 88,
   "metadata": {},
   "outputs": [],
   "source": [
    "#ToDo\n",
    "#Filter out tags that does not make sense\n",
    "#Right now I only delete the entry in the book_tags.csv if the count is less than a threshold\n",
    "#We can also manuallly remove tags in the tags.csv if we think the tag does not make sense"
   ]
  },
  {
   "cell_type": "code",
   "execution_count": 89,
   "metadata": {},
   "outputs": [],
   "source": [
    "#build a dict betweer goodread_book_id and the book_id used in this dataset\n",
    "books = datadir + 'books.csv'\n",
    "df_books = pd.read_csv(books, delimiter=',')"
   ]
  },
  {
   "cell_type": "code",
   "execution_count": 90,
   "metadata": {},
   "outputs": [
    {
     "name": "stdout",
     "output_type": "stream",
     "text": [
      "Index(['book_id', 'goodreads_book_id'], dtype='object')\n"
     ]
    }
   ],
   "source": [
    "df_books.dataframeName = 'books.csv'\n",
    "df_books= df_books[['book_id', 'goodreads_book_id']]\n",
    "print(df_books.columns)"
   ]
  },
  {
   "cell_type": "code",
   "execution_count": 131,
   "metadata": {},
   "outputs": [
    {
     "name": "stdout",
     "output_type": "stream",
     "text": [
      "10000\n",
      "27\n"
     ]
    }
   ],
   "source": [
    "#dict with key: goodreads_book_id, val: book_id \n",
    "book_id_dict = defaultdict(lambda:-1)\n",
    "for index, row in df_books.iterrows():    \n",
    "    bookId = int(row['book_id'])\n",
    "    GoodReadId = int(row['goodreads_book_id'])\n",
    "    book_id_dict[GoodReadId]=bookId\n",
    "print(len(book_id_dict))\n",
    "print(book_id_dict[1])"
   ]
  },
  {
   "cell_type": "code",
   "execution_count": 126,
   "metadata": {},
   "outputs": [],
   "source": [
    "#load book_tags file\n",
    "book_tags = datadir + 'book_tags.csv'\n",
    "df_book_tags = pd.read_csv(book_tags, delimiter=',')"
   ]
  },
  {
   "cell_type": "code",
   "execution_count": 127,
   "metadata": {},
   "outputs": [
    {
     "name": "stdout",
     "output_type": "stream",
     "text": [
      "Index(['goodreads_book_id', 'tag_id', 'count'], dtype='object')\n"
     ]
    }
   ],
   "source": [
    "df_book_tags.dataframeName = 'book_tags.csv'\n",
    "print(df_book_tags.columns)"
   ]
  },
  {
   "cell_type": "code",
   "execution_count": 128,
   "metadata": {},
   "outputs": [
    {
     "name": "stdout",
     "output_type": "stream",
     "text": [
      "   goodreads_book_id  tag_id   count\n",
      "0                  1   30574  167697\n",
      "1                  1   11305   37174\n",
      "2                  1   11557   34173\n",
      "3                  1    8717   12986\n",
      "4                  1   33114   12716\n"
     ]
    }
   ],
   "source": [
    "print(df_book_tags.head(5))"
   ]
  },
  {
   "cell_type": "code",
   "execution_count": 129,
   "metadata": {},
   "outputs": [
    {
     "name": "stdout",
     "output_type": "stream",
     "text": [
      "33288638 1\n",
      "34251 0\n",
      "596234 -1\n",
      "999912\n"
     ]
    }
   ],
   "source": [
    "print (max(df_book_tags['goodreads_book_id']), min(df_book_tags['goodreads_book_id']))\n",
    "print (max(df_book_tags['tag_id']), min(df_book_tags['tag_id']))\n",
    "print (max(df_book_tags['count']), min(df_book_tags['count']))\n",
    "print(len(df_book_tags))\n",
    "#There are negative counts?"
   ]
  },
  {
   "cell_type": "code",
   "execution_count": 120,
   "metadata": {},
   "outputs": [
    {
     "name": "stdout",
     "output_type": "stream",
     "text": [
      "30491\n"
     ]
    }
   ],
   "source": [
    "#remove entry if tag count is lower than given threshold, in which case the association between the tag and the book is\n",
    "#not strong\n",
    "tag_count_threshold = 500\n",
    "df_book_tags = df_book_tags[df_book_tags['count'] >= tag_count_threshold]\n",
    "print(len(df_book_tags))"
   ]
  },
  {
   "cell_type": "code",
   "execution_count": 130,
   "metadata": {},
   "outputs": [
    {
     "name": "stderr",
     "output_type": "stream",
     "text": [
      "/home/htann/anaconda3/lib/python3.7/site-packages/ipykernel_launcher.py:6: FutureWarning: set_value is deprecated and will be removed in a future release. Please use .at[] or .iat[] accessors instead\n",
      "  \n"
     ]
    },
    {
     "name": "stdout",
     "output_type": "stream",
     "text": [
      "   goodreads_book_id  tag_id   count\n",
      "0                 27   30574  167697\n",
      "1                 27   11305   37174\n",
      "2                 27   11557   34173\n",
      "3                 27    8717   12986\n",
      "4                 27   33114   12716\n"
     ]
    }
   ],
   "source": [
    "#convert the good_read_book_id to book_id in this dataframe\n",
    "for index, row in df_book_tags.iterrows():\n",
    "    bookId = book_id_dict[int(row['goodreads_book_id'])]\n",
    "    df_book_tags.set_value(index,'goodreads_book_id', bookId) \n",
    "print(df_book_tags.head(5))"
   ]
  },
  {
   "cell_type": "code",
   "execution_count": 133,
   "metadata": {},
   "outputs": [
    {
     "name": "stdout",
     "output_type": "stream",
     "text": [
      "   book_id  tag_id   count\n",
      "0       27   30574  167697\n",
      "1       27   11305   37174\n",
      "2       27   11557   34173\n",
      "3       27    8717   12986\n",
      "4       27   33114   12716\n"
     ]
    }
   ],
   "source": [
    "# rename the column name from goodread_id to book_id\n",
    "df_book_tags.rename(columns={'goodreads_book_id': 'book_id'}, inplace=True)\n",
    "print(df_book_tags.head(5))"
   ]
  },
  {
   "cell_type": "code",
   "execution_count": 134,
   "metadata": {},
   "outputs": [
    {
     "name": "stdout",
     "output_type": "stream",
     "text": [
      "10000\n"
     ]
    }
   ],
   "source": [
    "#dict with key: book_id, val: tag_id, to list all the tags every book has\n",
    "book_tag_dict = defaultdict(list)\n",
    "for index, row in df_book_tags.iterrows():    \n",
    "    bookId = int(row['book_id'])\n",
    "    tagId = int(row['tag_id'])\n",
    "    book_tag_dict[bookId].append(tagId)\n",
    "print(len(book_tag_dict))"
   ]
  },
  {
   "cell_type": "code",
   "execution_count": 135,
   "metadata": {},
   "outputs": [],
   "source": [
    "#marginal counts included\n",
    "#here the tag tag pair is incremented by one if a book is listed with both of the two tags\n",
    "tag_tag_count =  defaultdict(lambda: 0)\n",
    "for key, val in book_tag_dict.items():\n",
    "    for i in range(len(val)):\n",
    "        for j in range(i, len(val)):\n",
    "            tag_tag_count[(val[i], val[j]) if val[i] <= val[j] else (val[j], val[i])] += 1  "
   ]
  },
  {
   "cell_type": "code",
   "execution_count": 136,
   "metadata": {},
   "outputs": [
    {
     "name": "stdout",
     "output_type": "stream",
     "text": [
      "5890222\n"
     ]
    }
   ],
   "source": [
    "print(len(tag_tag_count))"
   ]
  },
  {
   "cell_type": "code",
   "execution_count": null,
   "metadata": {},
   "outputs": [],
   "source": []
  }
 ],
 "metadata": {
  "kernelspec": {
   "display_name": "Python 3",
   "language": "python",
   "name": "python3"
  },
  "language_info": {
   "codemirror_mode": {
    "name": "ipython",
    "version": 3
   },
   "file_extension": ".py",
   "mimetype": "text/x-python",
   "name": "python",
   "nbconvert_exporter": "python",
   "pygments_lexer": "ipython3",
   "version": "3.7.0"
  }
 },
 "nbformat": 4,
 "nbformat_minor": 2
}

{
 "cells": [
  {
   "cell_type": "code",
   "execution_count": 1,
   "metadata": {},
   "outputs": [],
   "source": [
    "import os \n",
    "import numpy as np \n",
    "import pandas as pd\n",
    "from collections import defaultdict\n",
    "import itertools\n",
    "import ast"
   ]
  },
  {
   "cell_type": "code",
   "execution_count": 2,
   "metadata": {},
   "outputs": [],
   "source": [
    "#hyper parameters\n",
    "rating_threshold = 4 #only counted the usr rating if it is rated above the rating threshold\n",
    "user_count_threshold = 500 #only keep the bk_id if the bk is rated by user for more than user_count_threshold times\n",
    "split = [0.8, 0.1, 0.1] #train, dev, test split\n",
    "#INPUT_DIR = '../../../data/the-movies-dataset/'\n",
    "INPUT_DIR ='../../data/the-movies-dataset/'\n",
    "OUTPUT_DIR = '../box-code/data/movie_data/movie_big/taxonomy/'"
   ]
  },
  {
   "cell_type": "code",
   "execution_count": 3,
   "metadata": {},
   "outputs": [
    {
     "name": "stdout",
     "output_type": "stream",
     "text": [
      "   userId  movieId  rating   timestamp\n",
      "0       1      110     1.0  1425941529\n",
      "1       1      147     4.5  1425942435\n",
      "2       1      858     5.0  1425941523\n",
      "3       1     1221     5.0  1425941546\n",
      "4       1     1246     5.0  1425941556\n"
     ]
    },
    {
     "name": "stderr",
     "output_type": "stream",
     "text": [
      "/home/htann/anaconda3/lib/python3.6/site-packages/IPython/core/interactiveshell.py:3044: DtypeWarning: Columns (10) have mixed types. Specify dtype option on import or set low_memory=False.\n",
      "  interactivity=interactivity, compiler=compiler, result=result)\n"
     ]
    }
   ],
   "source": [
    "#read in raw data\n",
    "#prepare data for the complete dataset\n",
    "ratings_file = INPUT_DIR + 'ratings.csv'\n",
    "df = pd.read_csv(ratings_file, delimiter=',')\n",
    "df.dataframeName = 'ratings.csv'\n",
    "metadata_file = INPUT_DIR + 'movies_metadata.csv'\n",
    "df_metadata = pd.read_csv(metadata_file, delimiter=',')\n",
    "df_metadata.dataframeName = 'metadata.csv'\n",
    "print(df.head(5))"
   ]
  },
  {
   "cell_type": "code",
   "execution_count": 4,
   "metadata": {},
   "outputs": [
    {
     "name": "stdout",
     "output_type": "stream",
     "text": [
      "   movieId  imdbId   tmdbId\n",
      "0        1  114709    862.0\n",
      "1        2  113497   8844.0\n",
      "2        3  113228  15602.0\n",
      "3        4  114885  31357.0\n",
      "4        5  113041  11862.0\n"
     ]
    }
   ],
   "source": [
    "links_file = INPUT_DIR + 'links.csv'\n",
    "df_link = pd.read_csv(links_file, delimiter=',')\n",
    "df_link.dataframeName = 'links.csv'\n",
    "print(df_link.head(5))"
   ]
  },
  {
   "cell_type": "code",
   "execution_count": 5,
   "metadata": {},
   "outputs": [
    {
     "name": "stdout",
     "output_type": "stream",
     "text": [
      "   adult                              belongs_to_collection    budget  \\\n",
      "0  False  {'id': 10194, 'name': 'Toy Story Collection', ...  30000000   \n",
      "1  False                                                NaN  65000000   \n",
      "2  False  {'id': 119050, 'name': 'Grumpy Old Men Collect...         0   \n",
      "3  False                                                NaN  16000000   \n",
      "4  False  {'id': 96871, 'name': 'Father of the Bride Col...         0   \n",
      "\n",
      "                                              genres  \\\n",
      "0  [{'id': 16, 'name': 'Animation'}, {'id': 35, '...   \n",
      "1  [{'id': 12, 'name': 'Adventure'}, {'id': 14, '...   \n",
      "2  [{'id': 10749, 'name': 'Romance'}, {'id': 35, ...   \n",
      "3  [{'id': 35, 'name': 'Comedy'}, {'id': 18, 'nam...   \n",
      "4                     [{'id': 35, 'name': 'Comedy'}]   \n",
      "\n",
      "                               homepage     id    imdb_id original_language  \\\n",
      "0  http://toystory.disney.com/toy-story    862  tt0114709                en   \n",
      "1                                   NaN   8844  tt0113497                en   \n",
      "2                                   NaN  15602  tt0113228                en   \n",
      "3                                   NaN  31357  tt0114885                en   \n",
      "4                                   NaN  11862  tt0113041                en   \n",
      "\n",
      "                original_title  \\\n",
      "0                    Toy Story   \n",
      "1                      Jumanji   \n",
      "2             Grumpier Old Men   \n",
      "3            Waiting to Exhale   \n",
      "4  Father of the Bride Part II   \n",
      "\n",
      "                                            overview  ... release_date  \\\n",
      "0  Led by Woody, Andy's toys live happily in his ...  ...   1995-10-30   \n",
      "1  When siblings Judy and Peter discover an encha...  ...   1995-12-15   \n",
      "2  A family wedding reignites the ancient feud be...  ...   1995-12-22   \n",
      "3  Cheated on, mistreated and stepped on, the wom...  ...   1995-12-22   \n",
      "4  Just when George Banks has recovered from his ...  ...   1995-02-10   \n",
      "\n",
      "       revenue runtime                                   spoken_languages  \\\n",
      "0  373554033.0    81.0           [{'iso_639_1': 'en', 'name': 'English'}]   \n",
      "1  262797249.0   104.0  [{'iso_639_1': 'en', 'name': 'English'}, {'iso...   \n",
      "2          0.0   101.0           [{'iso_639_1': 'en', 'name': 'English'}]   \n",
      "3   81452156.0   127.0           [{'iso_639_1': 'en', 'name': 'English'}]   \n",
      "4   76578911.0   106.0           [{'iso_639_1': 'en', 'name': 'English'}]   \n",
      "\n",
      "     status                                            tagline  \\\n",
      "0  Released                                                NaN   \n",
      "1  Released          Roll the dice and unleash the excitement!   \n",
      "2  Released  Still Yelling. Still Fighting. Still Ready for...   \n",
      "3  Released  Friends are the people who let you be yourself...   \n",
      "4  Released  Just When His World Is Back To Normal... He's ...   \n",
      "\n",
      "                         title  video vote_average vote_count  \n",
      "0                    Toy Story  False          7.7     5415.0  \n",
      "1                      Jumanji  False          6.9     2413.0  \n",
      "2             Grumpier Old Men  False          6.5       92.0  \n",
      "3            Waiting to Exhale  False          6.1       34.0  \n",
      "4  Father of the Bride Part II  False          5.7      173.0  \n",
      "\n",
      "[5 rows x 24 columns]\n"
     ]
    }
   ],
   "source": [
    "print(df_metadata.head(5))"
   ]
  },
  {
   "cell_type": "code",
   "execution_count": 6,
   "metadata": {},
   "outputs": [
    {
     "name": "stdout",
     "output_type": "stream",
     "text": [
      "45115\n",
      "45436\n",
      "45418\n",
      "45418 45843\n"
     ]
    }
   ],
   "source": [
    "print(len(set(df['movieId'])))\n",
    "print(len(set(df_metadata['id'])))\n",
    "print(len(set(df_metadata['imdb_id'])))\n",
    "C = set(df_metadata['imdb_id'])\n",
    "D = set(df_link['imdbId'])\n",
    "print(len(C), len(D))"
   ]
  },
  {
   "cell_type": "code",
   "execution_count": 7,
   "metadata": {},
   "outputs": [
    {
     "name": "stdout",
     "output_type": "stream",
     "text": [
      "45115 45115 45843\n"
     ]
    }
   ],
   "source": [
    "A = set(df['movieId'])\n",
    "D = set(df_link['movieId'])\n",
    "print(len(A.intersection(D)), len(A), len(D))"
   ]
  },
  {
   "cell_type": "code",
   "execution_count": 8,
   "metadata": {},
   "outputs": [
    {
     "name": "stdout",
     "output_type": "stream",
     "text": [
      "0 45115 45436\n"
     ]
    }
   ],
   "source": [
    "A = set(df['movieId'])\n",
    "B = set(df_metadata['id'])\n",
    "print(len(A.intersection(B)), len(A), len(B))"
   ]
  },
  {
   "cell_type": "code",
   "execution_count": 37,
   "metadata": {},
   "outputs": [
    {
     "name": "stdout",
     "output_type": "stream",
     "text": [
      "0\n",
      "0\n",
      "0\n",
      "0\n",
      "yes\n"
     ]
    }
   ],
   "source": [
    "A = set(df['movieId'])\n",
    "B = set(df_metadata['id'])\n",
    "C = set(df_metadata['imdb_id'])\n",
    "D = set(df_link['imdbId'])\n",
    "print(len(A.intersection(B)))\n",
    "print(len(A.intersection(C)))\n",
    "print(len(B.intersection(C)))\n",
    "print(len(D.intersection(C)))\n",
    "if 5 in A:\n",
    "    print(\"yes\")\n",
    "if 5 in B: print(\"yes2\")"
   ]
  },
  {
   "cell_type": "code",
   "execution_count": 40,
   "metadata": {},
   "outputs": [
    {
     "name": "stdout",
     "output_type": "stream",
     "text": [
      "2012-09-29\n",
      "20203\n"
     ]
    }
   ],
   "source": [
    "E = set()\n",
    "try:\n",
    "    for i in B:\n",
    "        E.add(int(i))\n",
    "except ValueError:\n",
    "    print(i)\n",
    "    \n",
    "print(len(E))\n",
    "if 949 in B: print(\"yes2\")"
   ]
  },
  {
   "cell_type": "code",
   "execution_count": 10,
   "metadata": {},
   "outputs": [
    {
     "name": "stdout",
     "output_type": "stream",
     "text": [
      "45843\n"
     ]
    }
   ],
   "source": [
    "#dict convert imdb_id to mv_id, key: imdb_id, val: mv_id\n",
    "mv_id_convert={}\n",
    "for index, row in df_link.iterrows():\n",
    "    imdb_id = int(row['imdbId'])\n",
    "    movie_id = int(row['movieId'])\n",
    "    mv_id_convert[imdb_id] = movie_id \n",
    "\n",
    "print(len(mv_id_convert.keys()))"
   ]
  },
  {
   "cell_type": "code",
   "execution_count": 11,
   "metadata": {},
   "outputs": [],
   "source": [
    "#preprocess data\n",
    "df.drop(columns=['timestamp'])\n",
    "df = df[df.rating >= rating_threshold]#Drop all entry with rating lower than the threshold\n",
    "\n",
    "movie_dict = defaultdict(list)#dict with key: movie_id, val: the list of user_ids rated the movie above the rating threshold\n",
    "for index, row in df.iterrows():    \n",
    "    movieId = int(row['movieId'])\n",
    "    usrId = int(row['userId'])\n",
    "    movie_dict[movieId].append(usrId)\n",
    "\n",
    "for key in list(movie_dict.keys()):#Drop all movie entry if number of rates below the user count threshold \n",
    "    if len(movie_dict[key]) < user_count_threshold:\n",
    "        del movie_dict[key]"
   ]
  },
  {
   "cell_type": "code",
   "execution_count": 12,
   "metadata": {},
   "outputs": [],
   "source": [
    "def marginal_prob(movie_id, count_matrix, num_users):\n",
    "    '''function to get the marginal prob:\n",
    "       P(movie_id1)       \n",
    "    '''\n",
    "    margn_count = count_matrix[ movie_id]\n",
    "    return margn_count/num_users\n",
    "\n",
    "def joint_prob(movie_id1, movie_id2, count_matrix, num_users):\n",
    "    '''function to get the joint prob:\n",
    "        P(movie_id1, movie_id2)\n",
    "    '''\n",
    "    key = (movie_id1, movie_id2) if movie_id1<= movie_id2 else (movie_id2, movie_id1) \n",
    "    joint_count = count_matrix[key] \n",
    "    return joint_count/num_users\n",
    "\n",
    "def conditional_prob(movie_id1, movie_id2, count_matrix, marginal_matrix):\n",
    "    '''function to get the conditional prob:\n",
    "        P(movie_id1 | movie_id2)       \n",
    "    '''\n",
    "    key = (movie_id1, movie_id2) if movie_id1<= movie_id2 else (movie_id2, movie_id1)\n",
    "    joint_count = count_matrix[key]\n",
    "    if joint_count == 0:\n",
    "        return 0\n",
    "    margn_count = marginal_matrix[movie_id2]\n",
    "    '''\n",
    "    print(\"------\")\n",
    "    print(\"id1: \", movie_id1, \"id2: \", movie_id2)\n",
    "    print(count_matrix[(movie_id1, movie_id2)])\n",
    "    print(marginal_matrix[movie_id1], marginal_matrix[movie_id2])\n",
    "    print(\"------\")\n",
    "    '''\n",
    "    #print(joint_count/margn_count)\n",
    "    return joint_count/margn_count\n",
    "\n",
    "#given ordered pair of key(a,b), generate both p(b|a) and p(a|b)\n",
    "def data_generation(a,b, count_matrix, marginal_matrix):\n",
    "    p_a_b = conditional_prob(a, b, count_matrix, marginal_matrix)#p(a|b)\n",
    "    p_b_a = conditional_prob(b, a, count_matrix, marginal_matrix)#p(b|a)\n",
    "    return(((a,b),p_b_a), ((b,a),p_a_b))"
   ]
  },
  {
   "cell_type": "code",
   "execution_count": 13,
   "metadata": {},
   "outputs": [
    {
     "name": "stdout",
     "output_type": "stream",
     "text": [
      "3193\n"
     ]
    }
   ],
   "source": [
    "movie_id_set = set(movie_dict.keys())#make a set of valid movie ids used in our data after filtering\n",
    "print(len(movie_id_set))\n"
   ]
  },
  {
   "cell_type": "code",
   "execution_count": 14,
   "metadata": {},
   "outputs": [],
   "source": [
    "#extract genre ID as integers from data\n",
    "def extractGenreID(text):\n",
    "    tmp = ast.literal_eval(text)\n",
    "    #ids = []\n",
    "    gen = []\n",
    "    for d in tmp:\n",
    "       # ids.append(int(d['id'])+MAX_MV_ID)\n",
    "        gen.append(d['name'])\n",
    "   # return [ids, gen]\n",
    "    return gen"
   ]
  },
  {
   "cell_type": "code",
   "execution_count": 32,
   "metadata": {},
   "outputs": [],
   "source": [
    "mv_genre = {}#dict of movie and labeled genre pairs, key: movie id, value: list of genre id\n",
    "genres = {} #dict for genres, key: genre id, value: genre name in English\n",
    "\n",
    "for i in range(len(df_metadata)):\n",
    "    try:\n",
    "        temp = df_metadata.loc[i].imdb_id\n",
    "        if isinstance(temp, str) and temp[:2] == \"tt\":  #filter out corrupted data in df_metadata\n",
    "            if int(temp[2:]) in mv_id_convert: #filter out the imdb_id s not in id convertion dict\n",
    "                this_mv_id = mv_id_convert[int(temp[2:])]#convert imdb_id to movie id\n",
    "                this_mv_gen = extractGenreID(df_metadata.loc[i].genres)\n",
    "                mv_genre[this_mv_id] = this_mv_gen #have tested every mv_id only appear once in the dataframe \n",
    "\n",
    "    except (ValueError, TypeError) as e:  \n",
    "        print(\"error in data\")\n",
    "        print(temp, type(temp))\n"
   ]
  },
  {
   "cell_type": "code",
   "execution_count": null,
   "metadata": {},
   "outputs": [],
   "source": [
    "'''\n",
    "45416 distinct id in metadata imdb_id\n",
    "45843 distinct id in df_link  imdfID\n",
    "45353 overlap of the two\n",
    "45353 imdb_id from metadata is in link, and 63 are not (45416 - 45353)\n",
    "'''"
   ]
  },
  {
   "cell_type": "code",
   "execution_count": 33,
   "metadata": {},
   "outputs": [
    {
     "name": "stdout",
     "output_type": "stream",
     "text": [
      "45353\n",
      "3183\n"
     ]
    }
   ],
   "source": [
    "print(len(mv_genre))\n",
    "for k in list(mv_genre.keys()):#double check if all movie_genre_pairs are the valid movies after filtering\n",
    "    if k not in movie_id_set:\n",
    "        del mv_genre[k]\n",
    "print(len(mv_genre))"
   ]
  },
  {
   "cell_type": "code",
   "execution_count": 34,
   "metadata": {},
   "outputs": [],
   "source": [
    "#create the movie_genre_master file\n",
    "file = open(OUTPUT_DIR+\"movie_genre_master.txt\", \"w\") \n",
    "for movie_id in list(mv_genre.keys()):\n",
    "    for genre_id in mv_genre[movie_id]:\n",
    "        file.write(\"IsA\\t\"+str(movie_id)+\"\\t\" + str(genre_id) + \"\\t\" + str(1)+\"\\n\")\n",
    "file.close() "
   ]
  },
  {
   "cell_type": "code",
   "execution_count": null,
   "metadata": {},
   "outputs": [],
   "source": [
    "user_dict = defaultdict(list)#dict with key: user, val: the movie_id this usr rated above given threshold\n",
    "for key, val in movie_dict.items():\n",
    "    for i in val:\n",
    "        user_dict[i].append(key)\n",
    "        \n",
    "#to make sure if a user rate a movie, the user only rate the movie once\n",
    "for key, val in user_dict.items():\n",
    "    user_dict[key] = list(set(val))\n",
    "\n",
    "#movie_movie_count: key: (bk_id_i, bk_id_j) (bk_id_i != bk_id_j and bk_id_i < bk_id_j) \n",
    "#                 val: co-ocurrence count of bk_id_i and bk_id_j\n",
    "#movie_movie_count_marginal: key: (bk_id_i) val: ocurrence count of bk_id_i in the dataset\n",
    "movie_movie_count =  defaultdict(lambda: 0)\n",
    "movie_movie_count_marginal = defaultdict(lambda:0)\n",
    "for key, val in user_dict.items():\n",
    "    for i in range(len(val)):\n",
    "        movie_movie_count_marginal[val[i]] += 1 #marginal count\n",
    "        for j in range(i+1, len(val)):#marginal count not included in book_book_count\n",
    "            movie_movie_count[(val[i], val[j]) if val[i] <= val[j] else (val[j], val[i])] += 1\n",
    "            "
   ]
  },
  {
   "cell_type": "code",
   "execution_count": null,
   "metadata": {},
   "outputs": [],
   "source": [
    "gen_gen_count =  defaultdict(lambda: 0)\n",
    "gen_gen_count_marginal = defaultdict(lambda:0)\n",
    "\n",
    "for key, val in mv_genre.items():\n",
    "     for i in range(len(val)):\n",
    "        gen_gen_count_marginal[val[i]] += 1 #marginal count\n",
    "        for j in range(i+1, len(val)):#marginal count not included in book_book_count\n",
    "            gen_gen_count[(val[i], val[j]) if val[i] <= val[j] else (val[j], val[i])] += 1"
   ]
  },
  {
   "cell_type": "code",
   "execution_count": null,
   "metadata": {},
   "outputs": [],
   "source": [
    "#create the movie vocab file\n",
    "file = open(OUTPUT_DIR+\"movie_vocabulary.txt\", \"w\") \n",
    "marginal_keys = list(movie_movie_count_marginal.keys())\n",
    "for i in marginal_keys:\n",
    "    file.write(str(i)+\"\\n\") \n",
    "file.close() \n",
    "\n",
    "#create the movie marginal prob file, order of value match order of books id in vocab file\n",
    "file = open(OUTPUT_DIR+\"movie_marginal_prob.txt\", \"w\") \n",
    "N = len(user_dict)#number of user\n",
    "for i in marginal_keys:\n",
    "    file.write(str(marginal_prob(i, movie_movie_count_marginal, N))+\"\\n\")\n",
    "file.close() "
   ]
  },
  {
   "cell_type": "code",
   "execution_count": null,
   "metadata": {},
   "outputs": [],
   "source": [
    "#create the genre vocab file\n",
    "file = open(OUTPUT_DIR+\"genre_vocabulary.txt\", \"w\") \n",
    "marginal_keys = list(gen_gen_count_marginal.keys())\n",
    "for i in marginal_keys:\n",
    "    file.write(str(i)+\"\\n\") \n",
    "file.close() \n",
    "\n",
    "#create the genre marginal prob file, order of value match order of books id in vocab file\n",
    "file = open(OUTPUT_DIR+\"genre_marginal_prob.txt\", \"w\") \n",
    "N = len(mv_genre)#number of total movies\n",
    "for i in marginal_keys:\n",
    "    file.write(str(marginal_prob(i, gen_gen_count_marginal, N))+\"\\n\")\n",
    "file.close() "
   ]
  },
  {
   "cell_type": "code",
   "execution_count": null,
   "metadata": {},
   "outputs": [],
   "source": [
    "temp = list(movie_movie_count.items())\n",
    "movie_movie_master_data=[]\n",
    "for data in temp:\n",
    "    a,b = data_generation(data[0][0],data[0][1], movie_movie_count, movie_movie_count_marginal)\n",
    "    movie_movie_master_data.append(a)\n",
    "    movie_movie_master_data.append(b)\n",
    "#create the train data file\n",
    "file = open(OUTPUT_DIR + \"movie_movie_master.txt\", \"w\") \n",
    "for i in movie_movie_master_data:\n",
    "    if str(i[1])!=\"0\":\n",
    "        file.write(\"IsA\\t\"+str(i[0][0])+\"\\t\" + str(i[0][1]) + \"\\t\" + str(i[1])+\"\\n\")\n",
    "file.close() "
   ]
  },
  {
   "cell_type": "code",
   "execution_count": null,
   "metadata": {},
   "outputs": [],
   "source": [
    "temp = list(gen_gen_count.items())\n",
    "gen_gen_master_data=[]\n",
    "for data in temp:\n",
    "    a,b = data_generation(data[0][0],data[0][1], gen_gen_count, gen_gen_count_marginal)\n",
    "    gen_gen_master_data.append(a)\n",
    "    gen_gen_master_data.append(b)\n",
    "#create the train data file\n",
    "file = open(OUTPUT_DIR + \"genre_genre_master.txt\", \"w\") \n",
    "for i in gen_gen_master_data:\n",
    "    if str(i[1])!=\"0\":\n",
    "        file.write(\"IsA\\t\"+str(i[0][0])+\"\\t\" + str(i[0][1]) + \"\\t\" + str(i[1])+\"\\n\")\n",
    "file.close() "
   ]
  },
  {
   "cell_type": "code",
   "execution_count": null,
   "metadata": {},
   "outputs": [],
   "source": []
  },
  {
   "cell_type": "code",
   "execution_count": null,
   "metadata": {},
   "outputs": [],
   "source": []
  }
 ],
 "metadata": {
  "kernelspec": {
   "display_name": "Python 3",
   "language": "python",
   "name": "python3"
  },
  "language_info": {
   "codemirror_mode": {
    "name": "ipython",
    "version": 3
   },
   "file_extension": ".py",
   "mimetype": "text/x-python",
   "name": "python",
   "nbconvert_exporter": "python",
   "pygments_lexer": "ipython3",
   "version": "3.6.8"
  }
 },
 "nbformat": 4,
 "nbformat_minor": 2
}

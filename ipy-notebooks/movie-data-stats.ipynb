{
 "cells": [
  {
   "cell_type": "code",
   "execution_count": 1,
   "metadata": {},
   "outputs": [],
   "source": [
    "import os \n",
    "import numpy as np \n",
    "import pandas as pd\n",
    "from collections import defaultdict\n",
    "import itertools\n",
    "import ast"
   ]
  },
  {
   "cell_type": "code",
   "execution_count": 2,
   "metadata": {},
   "outputs": [],
   "source": [
    "#hyper parameters\n",
    "rating_threshold = 4.5 #only counted the usr rating if it is rated above the rating threshold\n",
    "user_count_threshold = 500 #only keep the bk_id if the bk is rated by user for more than user_count_threshold times\n",
    "split = [0.8, 0.1, 0.1] #train, dev, test split\n",
    "#INPUT_DIR = '../../../data/the-movies-dataset/'\n",
    "INPUT_DIR ='../../data/the-movies-dataset/'\n",
    "OUTPUT_DIR = '../box-code/data/movie_data/movie_big/taxonomy/'"
   ]
  },
  {
   "cell_type": "code",
   "execution_count": 3,
   "metadata": {},
   "outputs": [
    {
     "name": "stderr",
     "output_type": "stream",
     "text": [
      "/home/htann/anaconda3/lib/python3.6/site-packages/IPython/core/interactiveshell.py:3044: DtypeWarning: Columns (10) have mixed types. Specify dtype option on import or set low_memory=False.\n",
      "  interactivity=interactivity, compiler=compiler, result=result)\n"
     ]
    }
   ],
   "source": [
    "#read in raw data\n",
    "#prepare data for the complete dataset\n",
    "ratings_file = INPUT_DIR + 'ratings.csv'\n",
    "df = pd.read_csv(ratings_file, delimiter=',')\n",
    "df.dataframeName = 'ratings.csv'\n",
    "metadata_file = INPUT_DIR + 'movies_metadata.csv'\n",
    "df_metadata = pd.read_csv(metadata_file, delimiter=',')\n",
    "df_metadata.dataframeName = 'metadata.csv'"
   ]
  },
  {
   "cell_type": "code",
   "execution_count": 4,
   "metadata": {},
   "outputs": [],
   "source": [
    "#preprocess data\n",
    "df.drop(columns=['timestamp'])\n",
    "df = df[df.rating >= rating_threshold]#Drop all entry with rating lower than the threshold\n",
    "\n",
    "movie_dict = defaultdict(list)#dict with key: movie_id, val: the list of user_ids rated the movie above the rating threshold\n",
    "for index, row in df.iterrows():    \n",
    "    movieId = int(row['movieId'])\n",
    "    usrId = int(row['userId'])\n",
    "    movie_dict[movieId].append(usrId)\n",
    "\n",
    "for key in list(movie_dict.keys()):#Drop all movie entry if number of rates below the user count threshold \n",
    "    if len(movie_dict[key]) < user_count_threshold:\n",
    "        del movie_dict[key]"
   ]
  },
  {
   "cell_type": "code",
   "execution_count": 5,
   "metadata": {},
   "outputs": [],
   "source": [
    "def marginal_prob(movie_id, count_matrix, num_users):\n",
    "    '''function to get the marginal prob:\n",
    "       P(movie_id1)       \n",
    "    '''\n",
    "    margn_count = count_matrix[ movie_id]\n",
    "    return margn_count/num_users\n",
    "\n",
    "def joint_prob(movie_id1, movie_id2, count_matrix, num_users):\n",
    "    '''function to get the joint prob:\n",
    "        P(movie_id1, movie_id2)\n",
    "    '''\n",
    "    key = (movie_id1, movie_id2) if movie_id1<= movie_id2 else (movie_id2, movie_id1) \n",
    "    joint_count = count_matrix[key] \n",
    "    return joint_count/num_users\n",
    "\n",
    "def conditional_prob(movie_id1, movie_id2, count_matrix, marginal_matrix):\n",
    "    '''function to get the conditional prob:\n",
    "        P(movie_id1 | movie_id2)       \n",
    "    '''\n",
    "    key = (movie_id1, movie_id2) if movie_id1<= movie_id2 else (movie_id2, movie_id1)\n",
    "    joint_count = count_matrix[key]\n",
    "    if joint_count == 0:\n",
    "        return 0\n",
    "    margn_count = marginal_matrix[movie_id2]\n",
    "    return joint_count/margn_count\n",
    "\n",
    "#given ordered pair of key(a,b), generate both p(b|a) and p(a|b)\n",
    "def data_generation(a,b, count_matrix, marginal_matrix):\n",
    "    p_a_b = conditional_prob(a, b, count_matrix, marginal_matrix)#p(a|b)\n",
    "    p_b_a = conditional_prob(b, a, count_matrix, marginal_matrix)#p(b|a)\n",
    "    return(((a,b),p_b_a), ((b,a),p_a_b))"
   ]
  },
  {
   "cell_type": "code",
   "execution_count": 6,
   "metadata": {},
   "outputs": [
    {
     "name": "stdout",
     "output_type": "stream",
     "text": [
      "1817\n"
     ]
    }
   ],
   "source": [
    "movie_id_set = set(movie_dict.keys())#make a set of valid movie ids used in our data after filtering\n",
    "print(len(movie_id_set))\n"
   ]
  },
  {
   "cell_type": "code",
   "execution_count": 7,
   "metadata": {},
   "outputs": [],
   "source": [
    "#extract genre ID as integers from data\n",
    "def extractGenreID(text, MAX_MV_ID ):\n",
    "    tmp = ast.literal_eval(text)\n",
    "    #ids = []\n",
    "    gen = []\n",
    "    for d in tmp:\n",
    "       # ids.append(int(d['id'])+MAX_MV_ID)\n",
    "        gen.append(d['name'])\n",
    "   # return [ids, gen]\n",
    "    return gen"
   ]
  },
  {
   "cell_type": "code",
   "execution_count": 8,
   "metadata": {},
   "outputs": [
    {
     "name": "stdout",
     "output_type": "stream",
     "text": [
      "error in data\n",
      "error in data\n",
      "error in data\n"
     ]
    }
   ],
   "source": [
    "MAX_MV_ID = 163949+1\n",
    "mv_genre = {}#dict of movie and labeled genre pairs, key: movie id, value: list of genre id\n",
    "genres = {} #dict for genres, key: genre id, value: genre name in English\n",
    "for i in range(len(df_metadata)):\n",
    "    try:\n",
    "        this_mv_id = int(df_metadata.loc[i].id)\n",
    "        this_mv_gen = extractGenreID(df_metadata.loc[i].genres, MAX_MV_ID)\n",
    "        '''\n",
    "        this_mv_genre_list = ids  \n",
    "        for i in range(len(ids)):\n",
    "            genres[ids[i]] = gen[i] #have tested every genre and genre_id pair are unique\n",
    "        '''\n",
    "        mv_genre[this_mv_id ] = this_mv_gen #have tested every mv_id only appear once in the dataframe        \n",
    "    except ValueError:\n",
    "        #print(i, df_metadata.loc[i].id,df_metadata.loc[i].genres )\n",
    "        print(\"error in data\")"
   ]
  },
  {
   "cell_type": "code",
   "execution_count": 9,
   "metadata": {},
   "outputs": [
    {
     "name": "stdout",
     "output_type": "stream",
     "text": [
      "45433\n",
      "736\n"
     ]
    }
   ],
   "source": [
    "print(len(mv_genre))\n",
    "for k in list(mv_genre.keys()):#double check if all movie_genre_pairs are the valid movies after filtering\n",
    "    if k not in movie_id_set:\n",
    "        del mv_genre[k]\n",
    "print(len(mv_genre))"
   ]
  },
  {
   "cell_type": "code",
   "execution_count": 10,
   "metadata": {},
   "outputs": [],
   "source": [
    "#create the movie_genre_master file\n",
    "file = open(OUTPUT_DIR+\"movie_genre_master.txt\", \"w\") \n",
    "for movie_id in list(mv_genre.keys()):\n",
    "    for genre_id in mv_genre[movie_id]:\n",
    "        file.write(\"IsA\\t\"+str(movie_id)+\"\\t\" + str(genre_id) + \"\\t\" + str(1)+\"\\n\")\n",
    "file.close() "
   ]
  },
  {
   "cell_type": "code",
   "execution_count": 11,
   "metadata": {},
   "outputs": [],
   "source": [
    "user_dict = defaultdict(list)#dict with key: user, val: the movie_id this usr rated above given threshold\n",
    "for key, val in movie_dict.items():\n",
    "    for i in range(len(val)):\n",
    "        user_dict[i].append(key)\n",
    "        \n",
    "#to make sure if a user rate a movie, the user only rate the movie once\n",
    "for key, val in user_dict.items():\n",
    "    user_dict[key] = list(set(val))\n",
    "\n",
    "#movie_movie_count: key: (bk_id_i, bk_id_j) (bk_id_i != bk_id_j and bk_id_i < bk_id_j) \n",
    "#                 val: co-ocurrence count of bk_id_i and bk_id_j\n",
    "#movie_movie_count_marginal: key: (bk_id_i) val: ocurrence count of bk_id_i in the dataset\n",
    "movie_movie_count =  defaultdict(lambda: 0)\n",
    "movie_movie_count_marginal = defaultdict(lambda:0)\n",
    "for key, val in user_dict.items():\n",
    "    for i in range(len(val)):\n",
    "        movie_movie_count_marginal[val[i]] += 1 #marginal count\n",
    "        for j in range(i+1, len(val)):#marginal count not included in book_book_count\n",
    "            movie_movie_count[(val[i], val[j]) if val[i] <= val[j] else (val[j], val[i])] += 1\n",
    "            "
   ]
  },
  {
   "cell_type": "code",
   "execution_count": 12,
   "metadata": {},
   "outputs": [],
   "source": [
    "gen_gen_count =  defaultdict(lambda: 0)\n",
    "gen_gen_count_marginal = defaultdict(lambda:0)\n",
    "\n",
    "for key, val in mv_genre.items():\n",
    "     for i in range(len(val)):\n",
    "        gen_gen_count_marginal[val[i]] += 1 #marginal count\n",
    "        for j in range(i+1, len(val)):#marginal count not included in book_book_count\n",
    "            gen_gen_count[(val[i], val[j]) if val[i] <= val[j] else (val[j], val[i])] += 1"
   ]
  },
  {
   "cell_type": "code",
   "execution_count": 13,
   "metadata": {},
   "outputs": [],
   "source": [
    "#create the movie vocab file\n",
    "file = open(OUTPUT_DIR+\"movie_vocabulary.txt\", \"w\") \n",
    "marginal_keys = list(movie_movie_count_marginal.keys())\n",
    "for i in marginal_keys:\n",
    "    file.write(str(i)+\"\\n\") \n",
    "file.close() \n",
    "\n",
    "#create the movie marginal prob file, order of value match order of books id in vocab file\n",
    "file = open(OUTPUT_DIR+\"movie_marginal_prob.txt\", \"w\") \n",
    "N = len(user_dict)#number of user\n",
    "for i in marginal_keys:\n",
    "    file.write(str(marginal_prob(i, movie_movie_count_marginal, N))+\"\\n\")\n",
    "file.close() "
   ]
  },
  {
   "cell_type": "code",
   "execution_count": 14,
   "metadata": {},
   "outputs": [],
   "source": [
    "#create the genre vocab file\n",
    "file = open(OUTPUT_DIR+\"genre_vocabulary.txt\", \"w\") \n",
    "marginal_keys = list(gen_gen_count_marginal.keys())\n",
    "for i in marginal_keys:\n",
    "    file.write(str(i)+\"\\n\") \n",
    "file.close() \n",
    "\n",
    "#create the genre marginal prob file, order of value match order of books id in vocab file\n",
    "file = open(OUTPUT_DIR+\"genre_marginal_prob.txt\", \"w\") \n",
    "N = len(mv_genre)#number of total movies\n",
    "for i in marginal_keys:\n",
    "    file.write(str(marginal_prob(i, gen_gen_count_marginal, N))+\"\\n\")\n",
    "file.close() "
   ]
  },
  {
   "cell_type": "code",
   "execution_count": 15,
   "metadata": {},
   "outputs": [],
   "source": [
    "temp = list(movie_movie_count.items())\n",
    "movie_movie_master_data=[]\n",
    "for data in temp:\n",
    "    a,b = data_generation(data[0][0],data[0][1], movie_movie_count, movie_movie_count_marginal)\n",
    "    movie_movie_master_data.append(a)\n",
    "    movie_movie_master_data.append(b)\n",
    "#create the train data file\n",
    "file = open(OUTPUT_DIR + \"movie_movie_master.txt\", \"w\") \n",
    "for i in movie_movie_master_data:\n",
    "    if str(i[1])!=\"0\":\n",
    "        file.write(\"IsA\\t\"+str(i[0][0])+\"\\t\" + str(i[0][1]) + \"\\t\" + str(i[1])+\"\\n\")\n",
    "file.close() "
   ]
  },
  {
   "cell_type": "code",
   "execution_count": 16,
   "metadata": {},
   "outputs": [],
   "source": [
    "temp = list(gen_gen_count.items())\n",
    "gen_gen_master_data=[]\n",
    "for data in temp:\n",
    "    a,b = data_generation(data[0][0],data[0][1], gen_gen_count, gen_gen_count_marginal)\n",
    "    gen_gen_master_data.append(a)\n",
    "    gen_gen_master_data.append(b)\n",
    "#create the train data file\n",
    "file = open(OUTPUT_DIR + \"genre_genre_master.txt\", \"w\") \n",
    "for i in gen_gen_master_data:\n",
    "    if str(i[1])!=\"0\":\n",
    "        file.write(\"IsA\\t\"+str(i[0][0])+\"\\t\" + str(i[0][1]) + \"\\t\" + str(i[1])+\"\\n\")\n",
    "file.close() "
   ]
  },
  {
   "cell_type": "code",
   "execution_count": null,
   "metadata": {},
   "outputs": [],
   "source": []
  }
 ],
 "metadata": {
  "kernelspec": {
   "display_name": "Python 3",
   "language": "python",
   "name": "python3"
  },
  "language_info": {
   "codemirror_mode": {
    "name": "ipython",
    "version": 3
   },
   "file_extension": ".py",
   "mimetype": "text/x-python",
   "name": "python",
   "nbconvert_exporter": "python",
   "pygments_lexer": "ipython3",
   "version": "3.6.8"
  }
 },
 "nbformat": 4,
 "nbformat_minor": 2
}

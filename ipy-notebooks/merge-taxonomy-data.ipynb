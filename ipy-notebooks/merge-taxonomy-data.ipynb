{
 "cells": [
  {
   "cell_type": "code",
   "execution_count": 1,
   "metadata": {},
   "outputs": [],
   "source": [
    "import numpy as np\n",
    "import pandas as pd\n",
    "import random\n",
    "import os"
   ]
  },
  {
   "cell_type": "code",
   "execution_count": 2,
   "metadata": {},
   "outputs": [],
   "source": [
    "# CHANGE the following: datadir, name, output\n",
    "\n",
    "datadir = '/home/ninad/Desktop/Link-to-sem4/dsis/prob-emb/box-code/data/' \n",
    "\n",
    "# CHANGE with book for book data\n",
    "# names == movie or book (names/ids)\n",
    "\n",
    "# name = 'book' \n",
    "name = 'movie'\n",
    "\n",
    "\n",
    "# CHANGE the output DIR\n",
    "output = datadir + 'movie_data/4.5_500_taxonomy/'\n",
    "# output = datadir + 'book_data/book_data_4_500_taxonomy/'\n",
    "\n",
    "# root == where the unmerged data is stored.\n",
    "root = output + 'unmerged_data/'\n",
    "\n",
    "mv_mv_master = root + name + '_' + name + '_master.txt'\n",
    "gn_gn_master = root + 'genre_genre_master.txt'\n",
    "mv_gn_master = root + name + '_genre_master.txt'\n"
   ]
  },
  {
   "cell_type": "code",
   "execution_count": 3,
   "metadata": {},
   "outputs": [],
   "source": [
    "mv_margs = root + name + '_marginal_prob.txt'\n",
    "mv_vocab = root + name + '_vocabulary.txt'\n",
    "\n",
    "gn_margs = root + 'genre_marginal_prob.txt'\n",
    "gn_vocab = root + 'genre_vocabulary.txt'\n"
   ]
  },
  {
   "cell_type": "code",
   "execution_count": null,
   "metadata": {},
   "outputs": [],
   "source": []
  },
  {
   "cell_type": "code",
   "execution_count": null,
   "metadata": {},
   "outputs": [],
   "source": []
  },
  {
   "cell_type": "code",
   "execution_count": null,
   "metadata": {},
   "outputs": [],
   "source": []
  },
  {
   "cell_type": "code",
   "execution_count": null,
   "metadata": {},
   "outputs": [],
   "source": []
  },
  {
   "cell_type": "code",
   "execution_count": null,
   "metadata": {},
   "outputs": [],
   "source": []
  },
  {
   "cell_type": "code",
   "execution_count": null,
   "metadata": {},
   "outputs": [],
   "source": []
  },
  {
   "cell_type": "code",
   "execution_count": 4,
   "metadata": {},
   "outputs": [],
   "source": [
    "splits = [0.8, 0.1, 0.1]"
   ]
  },
  {
   "cell_type": "code",
   "execution_count": 5,
   "metadata": {},
   "outputs": [],
   "source": [
    "def write_list_to_txt(mylist, txt_fname):\n",
    "    with open(txt_fname, 'w') as f:\n",
    "        for item in mylist:\n",
    "            f.write(\"%s\\n\" % item)"
   ]
  },
  {
   "cell_type": "code",
   "execution_count": 6,
   "metadata": {},
   "outputs": [],
   "source": [
    "# test code\n",
    "# write_list_to_txt(gn_gn, 'test.txt')"
   ]
  },
  {
   "cell_type": "code",
   "execution_count": 7,
   "metadata": {},
   "outputs": [
    {
     "name": "stdout",
     "output_type": "stream",
     "text": [
      "('ninad_master.txt', 'ninad_dev.txt')\n"
     ]
    }
   ],
   "source": [
    "x = 'ninad_master.txt'\n",
    "m = x.find('_master.txt')\n",
    "y = x[:m] + '_dev.txt'\n",
    "print(x, y)"
   ]
  },
  {
   "cell_type": "code",
   "execution_count": 8,
   "metadata": {},
   "outputs": [],
   "source": [
    "def split_data(master_file, splits):\n",
    "    with open(master_file, 'r') as f:\n",
    "        flist = f.read().splitlines()\n",
    "    N = len(flist)\n",
    "        \n",
    "    trn_idx = int(splits[0] * N)\n",
    "    if trn_idx % 2 != 0:\n",
    "        trn_idx += 1\n",
    "    \n",
    "    dev_idx = trn_idx + int(splits[1] * N)\n",
    "    if dev_idx % 2 != 0:\n",
    "        dev_idx += 1\n",
    "    \n",
    "    trn_fname = master_file + \"_train.txt\"\n",
    "    dev_fname = master_file + \"_dev.txt\"\n",
    "    tst_fname = master_file + \"_tst.txt\"\n",
    "    \n",
    "    write_list_to_txt(flist[:trn_idx], trn_fname)\n",
    "    write_list_to_txt(flist[trn_idx:dev_idx], dev_fname)\n",
    "    write_list_to_txt(flist[dev_idx:], tst_fname)  \n",
    "    \n",
    "    "
   ]
  },
  {
   "cell_type": "code",
   "execution_count": 9,
   "metadata": {},
   "outputs": [],
   "source": [
    "split_data(gn_gn_master, splits)"
   ]
  },
  {
   "cell_type": "code",
   "execution_count": 10,
   "metadata": {},
   "outputs": [],
   "source": [
    "split_data(mv_mv_master, splits)"
   ]
  },
  {
   "cell_type": "code",
   "execution_count": 11,
   "metadata": {},
   "outputs": [],
   "source": [
    "split_data(mv_gn_master, splits)"
   ]
  },
  {
   "cell_type": "code",
   "execution_count": 12,
   "metadata": {},
   "outputs": [],
   "source": [
    "# Now since the split text files are written to disk, merge them using cat"
   ]
  },
  {
   "cell_type": "code",
   "execution_count": 13,
   "metadata": {},
   "outputs": [
    {
     "name": "stdout",
     "output_type": "stream",
     "text": [
      "/home/ninad/Desktop/Link-to-sem4/dsis/prob-emb/box-code/data/movie_data/4.5_500_taxonomy/\n"
     ]
    },
    {
     "data": {
      "text/plain": [
       "0"
      ]
     },
     "execution_count": 13,
     "metadata": {},
     "output_type": "execute_result"
    }
   ],
   "source": [
    "import subprocess\n",
    "\n",
    "if name == 'movie':\n",
    "    marg_script = '../box-code/data/movie-merge-margvocab.sh'\n",
    "    cond_script = '../box-code/data/movie-merge-condprob.sh'\n",
    "elif name == 'book':\n",
    "    marg_script = '../box-code/data/book-merge-margvocab.sh'\n",
    "    cond_script = '../box-code/data/book-merge-condprob.sh'\n",
    "    \n",
    "var1 = output # the output dir\n",
    "print(var1)\n",
    "subprocess.call([marg_script, var1])\n",
    "subprocess.call([cond_script, var1])\n",
    "\n"
   ]
  },
  {
   "cell_type": "code",
   "execution_count": 14,
   "metadata": {},
   "outputs": [],
   "source": [
    "def create_trneval_file(train_file, train_eval_file, fraction):\n",
    "    \n",
    "#     train_file = outputdir + \"movie_train.txt\"\n",
    "#     train_eval_file = outputdir + \"movie_train_eval.txt\"\n",
    "\n",
    "#     fraction = 0.1\n",
    "    with open(train_file, \"r\") as f:\n",
    "        lines = f.readlines()\n",
    "    N = len(lines)\n",
    "    count = int(N * fraction)\n",
    "\n",
    "#     t = np.random.choice(len(lines), count, replace=False)\n",
    "    t = random.sample(range(N), count)\n",
    "\n",
    "    print(\"Selecting %f%% of train data as eval content (%d rows).\"%(fraction, count))\n",
    "    with open(train_eval_file, \"w\") as f:\n",
    "        for i in t:\n",
    "            f.write(lines[i])            \n",
    "    print(\"Finished writing to file:\", train_eval_file)\n",
    "    return"
   ]
  },
  {
   "cell_type": "code",
   "execution_count": 15,
   "metadata": {},
   "outputs": [
    {
     "name": "stdout",
     "output_type": "stream",
     "text": [
      "Selecting 0.100000% of train data as eval content (262308 rows).\n",
      "('Finished writing to file:', '/home/ninad/Desktop/Link-to-sem4/dsis/prob-emb/box-code/data/movie_data/4.5_500_taxonomy/movie_train_eval.txt')\n"
     ]
    }
   ],
   "source": [
    "trn_file = output + name + '_train.txt'\n",
    "trn_eval_file = output + name + '_train_eval.txt'\n",
    "\n",
    "frac = 0.1 # frac of trn data to be used for eval\n",
    "create_trneval_file(trn_file, trn_eval_file, frac)"
   ]
  },
  {
   "cell_type": "code",
   "execution_count": null,
   "metadata": {},
   "outputs": [],
   "source": []
  },
  {
   "cell_type": "code",
   "execution_count": null,
   "metadata": {},
   "outputs": [],
   "source": []
  },
  {
   "cell_type": "code",
   "execution_count": null,
   "metadata": {},
   "outputs": [],
   "source": []
  },
  {
   "cell_type": "code",
   "execution_count": null,
   "metadata": {},
   "outputs": [],
   "source": []
  }
 ],
 "metadata": {
  "kernelspec": {
   "display_name": "Python 2",
   "language": "python",
   "name": "python2"
  },
  "language_info": {
   "codemirror_mode": {
    "name": "ipython",
    "version": 2
   },
   "file_extension": ".py",
   "mimetype": "text/x-python",
   "name": "python",
   "nbconvert_exporter": "python",
   "pygments_lexer": "ipython2",
   "version": "2.7.15"
  }
 },
 "nbformat": 4,
 "nbformat_minor": 2
}

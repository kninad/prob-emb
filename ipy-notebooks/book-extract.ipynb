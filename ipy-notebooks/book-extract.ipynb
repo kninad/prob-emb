{
 "cells": [
  {
   "cell_type": "code",
   "execution_count": 1,
   "metadata": {},
   "outputs": [],
   "source": [
    "import os \n",
    "import numpy as np \n",
    "import pandas as pd\n",
    "from collections import defaultdict\n",
    "import itertools\n",
    "import random"
   ]
  },
  {
   "cell_type": "code",
   "execution_count": 16,
   "metadata": {},
   "outputs": [],
   "source": [
    "datadir = '../../datasets/goodbooks-10k-master/'"
   ]
  },
  {
   "cell_type": "code",
   "execution_count": null,
   "metadata": {},
   "outputs": [],
   "source": []
  },
  {
   "cell_type": "code",
   "execution_count": null,
   "metadata": {},
   "outputs": [],
   "source": [
    "#ToDo\n",
    "#Filter out tags that does not make sense\n",
    "#Right now I only delete the entry in the book_tags.csv if the count is less than a threshold\n",
    "#We can also manuallly remove tags in the tags.csv if we think the tag does not make sense"
   ]
  },
  {
   "cell_type": "code",
   "execution_count": 17,
   "metadata": {},
   "outputs": [],
   "source": [
    "#build a dict betweer goodread_book_id and the book_id used in this dataset\n",
    "books = datadir + 'books.csv'\n",
    "df_books = pd.read_csv(books, delimiter=',')"
   ]
  },
  {
   "cell_type": "code",
   "execution_count": 26,
   "metadata": {},
   "outputs": [
    {
     "name": "stdout",
     "output_type": "stream",
     "text": [
      "Index([u'book_id', u'goodreads_book_id'], dtype='object')\n",
      "   book_id  goodreads_book_id\n",
      "0        1            2767052\n",
      "1        2                  3\n",
      "2        3              41865\n",
      "3        4               2657\n",
      "4        5               4671\n"
     ]
    }
   ],
   "source": [
    "df_books.dataframeName = 'books.csv'\n",
    "df_books= df_books[['book_id', 'goodreads_book_id']]\n",
    "print(df_books.columns)\n",
    "print(df_books.head(5))"
   ]
  },
  {
   "cell_type": "code",
   "execution_count": 19,
   "metadata": {},
   "outputs": [
    {
     "name": "stdout",
     "output_type": "stream",
     "text": [
      "10000\n",
      "27\n"
     ]
    }
   ],
   "source": [
    "#dict with key: goodreads_book_id, val: book_id \n",
    "book_id_dict = defaultdict(lambda:-1)\n",
    "for index, row in df_books.iterrows():    \n",
    "    bookId = int(row['book_id'])\n",
    "    GoodReadId = int(row['goodreads_book_id'])\n",
    "    book_id_dict[GoodReadId]=bookId\n",
    "print(len(book_id_dict))\n",
    "print(book_id_dict[1])"
   ]
  },
  {
   "cell_type": "code",
   "execution_count": 25,
   "metadata": {},
   "outputs": [
    {
     "name": "stdout",
     "output_type": "stream",
     "text": [
      "999912\n",
      "   goodreads_book_id  tag_id   count\n",
      "0                  1   30574  167697\n",
      "1                  1   11305   37174\n",
      "2                  1   11557   34173\n",
      "3                  1    8717   12986\n",
      "4                  1   33114   12716\n"
     ]
    }
   ],
   "source": [
    "#load book_tags file\n",
    "book_tags = datadir + 'book_tags.csv'\n",
    "df_book_tags = pd.read_csv(book_tags, delimiter=',')\n",
    "print(len(df_book_tags))\n",
    "print(df_book_tags.head(5))"
   ]
  },
  {
   "cell_type": "code",
   "execution_count": 21,
   "metadata": {},
   "outputs": [
    {
     "name": "stdout",
     "output_type": "stream",
     "text": [
      "Index([u'goodreads_book_id', u'tag_id', u'count'], dtype='object')\n"
     ]
    }
   ],
   "source": [
    "df_book_tags.dataframeName = 'book_tags.csv'\n",
    "print(df_book_tags.columns)"
   ]
  },
  {
   "cell_type": "code",
   "execution_count": null,
   "metadata": {},
   "outputs": [],
   "source": []
  },
  {
   "cell_type": "code",
   "execution_count": 22,
   "metadata": {},
   "outputs": [
    {
     "name": "stdout",
     "output_type": "stream",
     "text": [
      "(33288638, 1)\n",
      "(34251, 0)\n",
      "(596234, -1)\n",
      "999912\n"
     ]
    }
   ],
   "source": [
    "print (max(df_book_tags['goodreads_book_id']), min(df_book_tags['goodreads_book_id']))\n",
    "print (max(df_book_tags['tag_id']), min(df_book_tags['tag_id']))\n",
    "print (max(df_book_tags['count']), min(df_book_tags['count']))\n",
    "print(len(df_book_tags))\n",
    "#There are negative counts?"
   ]
  },
  {
   "cell_type": "code",
   "execution_count": 23,
   "metadata": {},
   "outputs": [
    {
     "name": "stdout",
     "output_type": "stream",
     "text": [
      "30491\n"
     ]
    }
   ],
   "source": [
    "#remove entry if tag count is lower than given threshold, in which case the association between the tag and the book is\n",
    "#not strong\n",
    "tag_count_threshold = 500\n",
    "df_book_tags = df_book_tags[df_book_tags['count'] >= tag_count_threshold]\n",
    "print(len(df_book_tags))"
   ]
  },
  {
   "cell_type": "code",
   "execution_count": 24,
   "metadata": {},
   "outputs": [
    {
     "name": "stderr",
     "output_type": "stream",
     "text": [
      "/home/ninad/anaconda3/envs/tfcpu-py27/lib/python2.7/site-packages/ipykernel_launcher.py:4: FutureWarning: set_value is deprecated and will be removed in a future release. Please use .at[] or .iat[] accessors instead\n",
      "  after removing the cwd from sys.path.\n"
     ]
    },
    {
     "name": "stdout",
     "output_type": "stream",
     "text": [
      "   goodreads_book_id  tag_id   count\n",
      "0                 27   30574  167697\n",
      "1                 27   11305   37174\n",
      "2                 27   11557   34173\n",
      "3                 27    8717   12986\n",
      "4                 27   33114   12716\n"
     ]
    }
   ],
   "source": [
    "#convert the good_read_book_id to book_id in this dataframe\n",
    "for index, row in df_book_tags.iterrows():\n",
    "    bookId = book_id_dict[int(row['goodreads_book_id'])]\n",
    "    df_book_tags.set_value(index,'goodreads_book_id', bookId) \n",
    "print(df_book_tags.head(5))"
   ]
  },
  {
   "cell_type": "code",
   "execution_count": 27,
   "metadata": {},
   "outputs": [
    {
     "name": "stdout",
     "output_type": "stream",
     "text": [
      "   book_id  tag_id   count\n",
      "0        1   30574  167697\n",
      "1        1   11305   37174\n",
      "2        1   11557   34173\n",
      "3        1    8717   12986\n",
      "4        1   33114   12716\n"
     ]
    }
   ],
   "source": [
    "# rename the column name from goodread_id to book_id\n",
    "df_book_tags.rename(columns={'goodreads_book_id': 'book_id'}, inplace=True)\n",
    "print(df_book_tags.head(5))"
   ]
  },
  {
   "cell_type": "code",
   "execution_count": null,
   "metadata": {},
   "outputs": [],
   "source": [
    "#dict with key: book_id, val: tag_id, to list all the tags every book has\n",
    "book_tag_dict = defaultdict(list)\n",
    "for index, row in df_book_tags.iterrows():    \n",
    "    bookId = int(row['book_id'])\n",
    "    tagId = int(row['tag_id'])\n",
    "    book_tag_dict[bookId].append(tagId)\n",
    "print(len(book_tag_dict))"
   ]
  },
  {
   "cell_type": "code",
   "execution_count": null,
   "metadata": {},
   "outputs": [],
   "source": [
    "#marginal counts included\n",
    "#here the tag tag pair is incremented by one if a book is listed with both of the two tags\n",
    "tag_tag_count =  defaultdict(lambda: 0)\n",
    "for key, val in book_tag_dict.items():\n",
    "    for i in range(len(val)):\n",
    "        for j in range(i, len(val)):\n",
    "            tag_tag_count[(val[i], val[j]) if val[i] <= val[j] else (val[j], val[i])] += 1  "
   ]
  },
  {
   "cell_type": "code",
   "execution_count": null,
   "metadata": {},
   "outputs": [],
   "source": [
    "print(len(tag_tag_count))"
   ]
  }
 ],
 "metadata": {
  "kernelspec": {
   "display_name": "Python 2",
   "language": "python",
   "name": "python2"
  },
  "language_info": {
   "codemirror_mode": {
    "name": "ipython",
    "version": 2
   },
   "file_extension": ".py",
   "mimetype": "text/x-python",
   "name": "python",
   "nbconvert_exporter": "python",
   "pygments_lexer": "ipython2",
   "version": "2.7.15"
  }
 },
 "nbformat": 4,
 "nbformat_minor": 2
}

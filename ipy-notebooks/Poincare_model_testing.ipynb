{
 "cells": [
  {
   "cell_type": "code",
   "execution_count": 70,
   "metadata": {},
   "outputs": [],
   "source": [
    "import os\n",
    "import logging\n",
    "import numpy as np\n",
    "import pandas as pd\n",
    "from gensim.models.poincare import PoincareModel, PoincareKeyedVectors, PoincareRelations\n",
    "\n",
    "from utils.data_loader import get_data_list"
   ]
  },
  {
   "cell_type": "code",
   "execution_count": null,
   "metadata": {},
   "outputs": [],
   "source": [
    "\"\"\"\n",
    "Listing training args (most to be accepted via cmd line args)\n",
    "\n",
    "model specs:\n",
    "size (int, optional) – Number of dimensions of the trained model.\n",
    "alpha (float, optional) – Learning rate for training.\n",
    "negative (int, optional) – Number of negative samples to use.\n",
    "workers (int, optional) – Number of threads to use for training the model.\n",
    "epsilon (float, optional) – Constant used for clipping embeddings below a norm of one.\n",
    "regularization_coeff (float, optional) – Coefficient used for l2-regularization while training (0 effectively disables regularization).\n",
    "burn_in (int, optional) – Number of epochs to use for burn-in initialization (0 means no burn-in).\n",
    "burn_in_alpha (float, optional) – Learning rate for burn-in initialization, ignored if burn_in is 0.\n",
    "init_range (2-tuple (float, float)) – Range within which the vectors are randomly initialized.\n",
    "dtype (numpy.dtype) – The numpy dtype to use for the vectors in the model (numpy.float64, numpy.float32 etc). Using lower precision floats may be useful in increasing training speed and reducing memory usage.\n",
    "seed (int, optional) – Seed for random to ensure reproducibility.\n",
    "\n",
    "\n",
    "model train:\n",
    "epochs (int) – Number of iterations (epochs) over the corpus.\n",
    "batch_size (int, optional) – Number of examples to train on in a single batch.\n",
    "print_every (int, optional) – Prints progress and average loss after every print_every batches.\n",
    "\n",
    "\n",
    "other misc things:\n",
    "- train file path\n",
    "- prob threshold\n",
    "- experiment name (can be deduced from hyper-params)\n",
    "- logging dir\n",
    "- model save dir\n",
    "\n",
    "logging the model loss and other things to check if the model is learning anything?\n",
    "\n",
    "\"\"\""
   ]
  },
  {
   "cell_type": "code",
   "execution_count": null,
   "metadata": {},
   "outputs": [],
   "source": []
  },
  {
   "cell_type": "code",
   "execution_count": 66,
   "metadata": {},
   "outputs": [],
   "source": []
  },
  {
   "cell_type": "code",
   "execution_count": 43,
   "metadata": {},
   "outputs": [],
   "source": [
    "logging.basicConfig(level=logging.INFO) # for reporting events during normal run \n",
    "\n",
    "trn_file = \"./data/book_small/book_train.txt\"\n",
    "prob_threshold = 0.5\n",
    "trn_list = get_data_list(trn_file, prob_threshold)"
   ]
  },
  {
   "cell_type": "code",
   "execution_count": 58,
   "metadata": {},
   "outputs": [
    {
     "name": "stderr",
     "output_type": "stream",
     "text": [
      "INFO:gensim.models.poincare:loading relations from train data..\n",
      "INFO:gensim.models.poincare:loaded 1790 relations from train data, 69 nodes\n"
     ]
    }
   ],
   "source": [
    "embed_dim = 10\n",
    "model = PoincareModel(train_data=trn_list, size=embed_dim)"
   ]
  },
  {
   "cell_type": "code",
   "execution_count": 63,
   "metadata": {},
   "outputs": [
    {
     "name": "stderr",
     "output_type": "stream",
     "text": [
      "INFO:gensim.models.poincare:training model of size 10 with 1 workers on 1790 relations for 10 epochs and 10 burn-in epochs, using lr=0.10000 burn-in lr=0.01000 negative=10\n",
      "INFO:gensim.models.poincare:starting training (10 epochs)----------------------------------------\n",
      "INFO:gensim.models.poincare:training on epoch 1, examples #490-#500, loss: 15.27\n",
      "INFO:gensim.models.poincare:time taken for 500 examples: 0.16 s, 3102.91 examples / s\n",
      "INFO:gensim.models.poincare:training on epoch 1, examples #990-#1000, loss: 14.91\n",
      "INFO:gensim.models.poincare:time taken for 500 examples: 0.14 s, 3568.83 examples / s\n",
      "INFO:gensim.models.poincare:training on epoch 1, examples #1490-#1500, loss: 14.92\n",
      "INFO:gensim.models.poincare:time taken for 500 examples: 0.15 s, 3379.68 examples / s\n",
      "INFO:gensim.models.poincare:training on epoch 2, examples #490-#500, loss: 14.66\n",
      "INFO:gensim.models.poincare:time taken for 500 examples: 0.13 s, 3759.70 examples / s\n",
      "INFO:gensim.models.poincare:training on epoch 2, examples #990-#1000, loss: 14.94\n",
      "INFO:gensim.models.poincare:time taken for 500 examples: 0.15 s, 3393.74 examples / s\n",
      "INFO:gensim.models.poincare:training on epoch 2, examples #1490-#1500, loss: 15.42\n",
      "INFO:gensim.models.poincare:time taken for 500 examples: 0.14 s, 3570.28 examples / s\n",
      "INFO:gensim.models.poincare:training on epoch 3, examples #490-#500, loss: 14.87\n",
      "INFO:gensim.models.poincare:time taken for 500 examples: 0.14 s, 3632.98 examples / s\n",
      "INFO:gensim.models.poincare:training on epoch 3, examples #990-#1000, loss: 15.14\n",
      "INFO:gensim.models.poincare:time taken for 500 examples: 0.14 s, 3499.44 examples / s\n",
      "INFO:gensim.models.poincare:training on epoch 3, examples #1490-#1500, loss: 14.69\n",
      "INFO:gensim.models.poincare:time taken for 500 examples: 0.15 s, 3346.32 examples / s\n",
      "INFO:gensim.models.poincare:training on epoch 4, examples #490-#500, loss: 14.54\n",
      "INFO:gensim.models.poincare:time taken for 500 examples: 0.13 s, 3804.69 examples / s\n",
      "INFO:gensim.models.poincare:training on epoch 4, examples #990-#1000, loss: 15.51\n",
      "INFO:gensim.models.poincare:time taken for 500 examples: 0.15 s, 3431.38 examples / s\n",
      "INFO:gensim.models.poincare:training on epoch 4, examples #1490-#1500, loss: 14.90\n",
      "INFO:gensim.models.poincare:time taken for 500 examples: 0.14 s, 3519.04 examples / s\n",
      "INFO:gensim.models.poincare:training on epoch 5, examples #490-#500, loss: 14.86\n",
      "INFO:gensim.models.poincare:time taken for 500 examples: 0.13 s, 3723.62 examples / s\n",
      "INFO:gensim.models.poincare:training on epoch 5, examples #990-#1000, loss: 14.34\n",
      "INFO:gensim.models.poincare:time taken for 500 examples: 0.15 s, 3326.26 examples / s\n",
      "INFO:gensim.models.poincare:training on epoch 5, examples #1490-#1500, loss: 15.07\n",
      "INFO:gensim.models.poincare:time taken for 500 examples: 0.14 s, 3482.47 examples / s\n",
      "INFO:gensim.models.poincare:training on epoch 6, examples #490-#500, loss: 15.18\n",
      "INFO:gensim.models.poincare:time taken for 500 examples: 0.14 s, 3645.43 examples / s\n",
      "INFO:gensim.models.poincare:training on epoch 6, examples #990-#1000, loss: 15.31\n",
      "INFO:gensim.models.poincare:time taken for 500 examples: 0.14 s, 3606.28 examples / s\n",
      "INFO:gensim.models.poincare:training on epoch 6, examples #1490-#1500, loss: 14.57\n",
      "INFO:gensim.models.poincare:time taken for 500 examples: 0.14 s, 3516.13 examples / s\n",
      "INFO:gensim.models.poincare:training on epoch 7, examples #490-#500, loss: 15.18\n",
      "INFO:gensim.models.poincare:time taken for 500 examples: 0.13 s, 3770.43 examples / s\n",
      "INFO:gensim.models.poincare:training on epoch 7, examples #990-#1000, loss: 14.93\n",
      "INFO:gensim.models.poincare:time taken for 500 examples: 0.15 s, 3401.64 examples / s\n",
      "INFO:gensim.models.poincare:training on epoch 7, examples #1490-#1500, loss: 14.99\n",
      "INFO:gensim.models.poincare:time taken for 500 examples: 0.15 s, 3294.54 examples / s\n",
      "INFO:gensim.models.poincare:training on epoch 8, examples #490-#500, loss: 14.65\n",
      "INFO:gensim.models.poincare:time taken for 500 examples: 0.14 s, 3670.56 examples / s\n",
      "INFO:gensim.models.poincare:training on epoch 8, examples #990-#1000, loss: 14.51\n",
      "INFO:gensim.models.poincare:time taken for 500 examples: 0.14 s, 3503.86 examples / s\n",
      "INFO:gensim.models.poincare:training on epoch 8, examples #1490-#1500, loss: 15.88\n",
      "INFO:gensim.models.poincare:time taken for 500 examples: 0.14 s, 3539.29 examples / s\n",
      "INFO:gensim.models.poincare:training on epoch 9, examples #490-#500, loss: 14.95\n",
      "INFO:gensim.models.poincare:time taken for 500 examples: 0.13 s, 3717.72 examples / s\n",
      "INFO:gensim.models.poincare:training on epoch 9, examples #990-#1000, loss: 15.06\n",
      "INFO:gensim.models.poincare:time taken for 500 examples: 0.15 s, 3360.49 examples / s\n",
      "INFO:gensim.models.poincare:training on epoch 9, examples #1490-#1500, loss: 14.99\n",
      "INFO:gensim.models.poincare:time taken for 500 examples: 0.15 s, 3293.68 examples / s\n",
      "INFO:gensim.models.poincare:training on epoch 10, examples #490-#500, loss: 14.98\n",
      "INFO:gensim.models.poincare:time taken for 500 examples: 0.13 s, 3707.06 examples / s\n",
      "INFO:gensim.models.poincare:training on epoch 10, examples #990-#1000, loss: 15.01\n",
      "INFO:gensim.models.poincare:time taken for 500 examples: 0.14 s, 3486.68 examples / s\n",
      "INFO:gensim.models.poincare:training on epoch 10, examples #1490-#1500, loss: 15.01\n",
      "INFO:gensim.models.poincare:time taken for 500 examples: 0.15 s, 3398.04 examples / s\n",
      "INFO:gensim.models.poincare:training finished\n"
     ]
    }
   ],
   "source": [
    "model.train(epochs=10, print_every=50)"
   ]
  },
  {
   "cell_type": "code",
   "execution_count": 51,
   "metadata": {},
   "outputs": [],
   "source": [
    "model.save(\"./model1.save\")"
   ]
  },
  {
   "cell_type": "code",
   "execution_count": 56,
   "metadata": {},
   "outputs": [
    {
     "data": {
      "text/plain": [
       "0.26403962330840747"
      ]
     },
     "execution_count": 56,
     "metadata": {},
     "output_type": "execute_result"
    }
   ],
   "source": [
    "model.kv.distance(8, 35)"
   ]
  },
  {
   "cell_type": "code",
   "execution_count": null,
   "metadata": {},
   "outputs": [],
   "source": []
  },
  {
   "cell_type": "code",
   "execution_count": null,
   "metadata": {},
   "outputs": [],
   "source": []
  },
  {
   "cell_type": "code",
   "execution_count": null,
   "metadata": {},
   "outputs": [],
   "source": []
  },
  {
   "cell_type": "code",
   "execution_count": null,
   "metadata": {},
   "outputs": [],
   "source": []
  },
  {
   "cell_type": "code",
   "execution_count": null,
   "metadata": {},
   "outputs": [],
   "source": []
  },
  {
   "cell_type": "code",
   "execution_count": null,
   "metadata": {},
   "outputs": [],
   "source": []
  },
  {
   "cell_type": "code",
   "execution_count": null,
   "metadata": {},
   "outputs": [],
   "source": []
  },
  {
   "cell_type": "code",
   "execution_count": null,
   "metadata": {},
   "outputs": [],
   "source": []
  },
  {
   "cell_type": "code",
   "execution_count": 39,
   "metadata": {},
   "outputs": [],
   "source": []
  },
  {
   "cell_type": "code",
   "execution_count": 40,
   "metadata": {},
   "outputs": [],
   "source": []
  },
  {
   "cell_type": "code",
   "execution_count": null,
   "metadata": {},
   "outputs": [],
   "source": []
  }
 ],
 "metadata": {
  "kernelspec": {
   "display_name": "Python 2",
   "language": "python",
   "name": "python2"
  },
  "language_info": {
   "codemirror_mode": {
    "name": "ipython",
    "version": 2
   },
   "file_extension": ".py",
   "mimetype": "text/x-python",
   "name": "python",
   "nbconvert_exporter": "python",
   "pygments_lexer": "ipython2",
   "version": "2.7.15"
  }
 },
 "nbformat": 4,
 "nbformat_minor": 2
}

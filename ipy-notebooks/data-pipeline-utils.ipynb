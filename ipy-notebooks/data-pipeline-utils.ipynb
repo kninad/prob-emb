{
 "cells": [
  {
   "cell_type": "markdown",
   "metadata": {},
   "source": [
    "### Generate train_eval.txt from train.txt file\n",
    "#### Randomly select 'percentage' rows from train file, used to evaluate our model while training"
   ]
  },
  {
   "cell_type": "code",
   "execution_count": 1,
   "metadata": {},
   "outputs": [
    {
     "name": "stdout",
     "output_type": "stream",
     "text": [
      "Selecting 10% of train data as eval content (5304 rows).\n",
      "Finished writing to file: movie_train_eval.txt\n"
     ]
    }
   ],
   "source": [
    "import numpy\n",
    "\n",
    "train_file = \"movie_train.txt\"\n",
    "train_eval_file = \"movie_train_eval.txt\"\n",
    "percentage = 10\n",
    "with open(train_file, \"r\") as f:\n",
    "    lines = f.readlines()\n",
    "    \n",
    "count = len(lines)*percentage//100\n",
    "t = 2*numpy.random.choice(len(lines)//2, count//2, replace=False)\n",
    "\n",
    "print(\"Selecting %d%% of train data as eval content (%d rows).\"%(percentage, count))\n",
    "with open(train_eval_file, \"w\") as f:\n",
    "    for i in t:\n",
    "        f.write(lines[i])\n",
    "        f.write(lines[i+1])\n",
    "print(\"Finished writing to file:\", train_eval_file)"
   ]
  }
 ],
 "metadata": {
  "kernelspec": {
   "display_name": "Python [conda env:Anaconda3]",
   "language": "python",
   "name": "conda-env-Anaconda3-py"
  },
  "language_info": {
   "codemirror_mode": {
    "name": "ipython",
    "version": 3
   },
   "file_extension": ".py",
   "mimetype": "text/x-python",
   "name": "python",
   "nbconvert_exporter": "python",
   "pygments_lexer": "ipython3",
   "version": "3.6.5"
  }
 },
 "nbformat": 4,
 "nbformat_minor": 2
}

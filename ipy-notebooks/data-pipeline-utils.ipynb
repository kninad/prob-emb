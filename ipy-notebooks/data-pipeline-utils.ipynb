{
 "cells": [
  {
   "cell_type": "markdown",
   "metadata": {},
   "source": [
    "### Generate train_eval.txt from train.txt file\n",
    "#### Randomly select 'percentage' rows from train file, used to evaluate our model while training"
   ]
  },
  {
   "cell_type": "code",
   "execution_count": 2,
   "metadata": {},
   "outputs": [
    {
     "name": "stdout",
     "output_type": "stream",
     "text": [
      "Selecting 0.100000% of train data as eval content (261904 rows).\n",
      "('Finished writing to file:', '/home/ninad/Desktop/Link-to-sem4/dsis/prob-emb/box-code/data/movie_data/movie_data_4.5_500/movie_train_eval.txt')\n"
     ]
    }
   ],
   "source": [
    "import numpy\n",
    "import random\n",
    "\n",
    "def create_trneval_file(train_file, train_eval_file, fraction):\n",
    "    \n",
    "#     train_file = outputdir + \"movie_train.txt\"\n",
    "#     train_eval_file = outputdir + \"movie_train_eval.txt\"\n",
    "\n",
    "#     fraction = 0.1\n",
    "    with open(train_file, \"r\") as f:\n",
    "        lines = f.readlines()\n",
    "    N = len(lines)\n",
    "    count = int(N * fraction)\n",
    "\n",
    "#     t = np.random.choice(len(lines), count, replace=False)\n",
    "    t = random.sample(range(N), count)\n",
    "\n",
    "    print(\"Selecting %f%% of train data as eval content (%d rows).\"%(fraction, count))\n",
    "    with open(train_eval_file, \"w\") as f:\n",
    "        for i in t:\n",
    "            f.write(lines[i])            \n",
    "    print(\"Finished writing to file:\", train_eval_file)\n",
    "    return\n",
    "\n",
    "# CHECK PATHS\n",
    "datadir = '/home/ninad/Desktop/Link-to-sem4/dsis/prob-emb/box-code/data/' \n",
    "base_path = datadir + 'movie_data/movie_data_4.5_500/'\n",
    "\n",
    "# CHECK FILE NAME\n",
    "train_file = base_path + \"movie_train.txt\"\n",
    "train_eval_file = base_path + \"movie_train_eval.txt\"\n",
    "frac = 0.1\n",
    "\n",
    "create_trneval_file(train_file, train_eval_file, frac)"
   ]
  }
 ],
 "metadata": {
  "kernelspec": {
   "display_name": "Python 2",
   "language": "python",
   "name": "python2"
  },
  "language_info": {
   "codemirror_mode": {
    "name": "ipython",
    "version": 2
   },
   "file_extension": ".py",
   "mimetype": "text/x-python",
   "name": "python",
   "nbconvert_exporter": "python",
   "pygments_lexer": "ipython2",
   "version": "2.7.15"
  }
 },
 "nbformat": 4,
 "nbformat_minor": 2
}

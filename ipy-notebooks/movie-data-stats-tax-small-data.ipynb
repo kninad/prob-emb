{
 "cells": [
  {
   "cell_type": "code",
   "execution_count": 52,
   "metadata": {},
   "outputs": [],
   "source": [
    "import os \n",
    "import numpy as np \n",
    "import pandas as pd\n",
    "from collections import defaultdict\n",
    "import itertools\n",
    "import ast"
   ]
  },
  {
   "cell_type": "code",
   "execution_count": 53,
   "metadata": {},
   "outputs": [
    {
     "name": "stdout",
     "output_type": "stream",
     "text": [
      "Beauty and the Beast\n",
      "The Shawshank Redemption\n",
      "The Avengers\n",
      "The Chain Reaction\n",
      "Guardians of the Galaxy Vol.2\n",
      "Big Hero 6\n",
      "Wonder Women\n",
      "Deadpool\n",
      "Forrest Gump\n",
      "Pulp Fiction\n",
      "Baby Driver\n",
      "Dawn of the Planet of the Apes\n",
      "Kung Fu Panda 2\n",
      "13\n"
     ]
    }
   ],
   "source": [
    "small_title_set = {\"Kung Fu Panda 2\", \"Forrest Gump\", \"The Shawshank Redemption\", \"Pulp Fiction\", \"Wonder Women\", \"Beauty and the Beast\", \"Baby Driver\", \"Big Hero 6\", \"Deadpool\", \"Guardians of the Galaxy Vol.2\", \"The Avengers\", \"Dawn of the Planet of the Apes\", \"The Chain Reaction\"}\n",
    "rating_threshold = 3.5 #only counted the usr rating if it is rated above the rating threshold\n",
    "user_count_threshold = 10 #only keep the bk_id if the bk is rated by user for more than user_count_threshold times"
   ]
  },
  {
   "cell_type": "code",
   "execution_count": null,
   "metadata": {},
   "outputs": [],
   "source": [
    "for i in small_title_set:\n",
    "    print(i)\n",
    "print(len(small_title_set))"
   ]
  },
  {
   "cell_type": "code",
   "execution_count": 54,
   "metadata": {},
   "outputs": [],
   "source": [
    "#hyper parameters\n",
    "split = [0.8, 0.1, 0.1] #train, dev, test split\n",
    "#INPUT_DIR = '../../../data/the-movies-dataset/'\n",
    "INPUT_DIR ='../../data/the-movies-dataset/'\n",
    "OUTPUT_DIR = '../box-code/data/movie_data/movie_big/small/'"
   ]
  },
  {
   "cell_type": "code",
   "execution_count": 55,
   "metadata": {},
   "outputs": [
    {
     "name": "stdout",
     "output_type": "stream",
     "text": [
      "   userId  movieId  rating   timestamp\n",
      "0       1      110     1.0  1425941529\n",
      "1       1      147     4.5  1425942435\n",
      "2       1      858     5.0  1425941523\n",
      "3       1     1221     5.0  1425941546\n",
      "4       1     1246     5.0  1425941556\n"
     ]
    }
   ],
   "source": [
    "#read in raw data\n",
    "#prepare data for the complete dataset\n",
    "ratings_file = INPUT_DIR + 'ratings.csv'\n",
    "df = pd.read_csv(ratings_file, delimiter=',')\n",
    "df.dataframeName = 'ratings.csv'\n",
    "metadata_file = INPUT_DIR + 'movies_metadata.csv'\n",
    "df_metadata = pd.read_csv(metadata_file, delimiter=',')\n",
    "df_metadata.dataframeName = 'metadata.csv'\n",
    "print(df.head(5))"
   ]
  },
  {
   "cell_type": "code",
   "execution_count": 56,
   "metadata": {},
   "outputs": [
    {
     "name": "stdout",
     "output_type": "stream",
     "text": [
      "   movieId  imdbId   tmdbId\n",
      "0        1  114709    862.0\n",
      "1        2  113497   8844.0\n",
      "2        3  113228  15602.0\n",
      "3        4  114885  31357.0\n",
      "4        5  113041  11862.0\n"
     ]
    }
   ],
   "source": [
    "links_file = INPUT_DIR + 'links.csv'\n",
    "df_link = pd.read_csv(links_file, delimiter=',')\n",
    "df_link.dataframeName = 'links.csv'\n",
    "print(df_link.head(5))"
   ]
  },
  {
   "cell_type": "code",
   "execution_count": 57,
   "metadata": {},
   "outputs": [
    {
     "name": "stdout",
     "output_type": "stream",
     "text": [
      "45843\n",
      "45843\n"
     ]
    }
   ],
   "source": [
    "#dict convert imdb_id to mv_id, key: imdb_id, val: mv_id\n",
    "mv_id_convert={}\n",
    "mv_id_back_convert = {}#for presentation\n",
    "for index, row in df_link.iterrows():\n",
    "    imdb_id = int(row['imdbId'])\n",
    "    movie_id = int(row['movieId'])\n",
    "    mv_id_convert[imdb_id] = movie_id \n",
    "    mv_id_back_convert[movie_id] = imdb_id\n",
    "\n",
    "print(len(mv_id_convert.keys()))\n",
    "print(len(mv_id_back_convert.keys()))"
   ]
  },
  {
   "cell_type": "code",
   "execution_count": 58,
   "metadata": {},
   "outputs": [
    {
     "name": "stdout",
     "output_type": "stream",
     "text": [
      "45466\n",
      "17\n"
     ]
    }
   ],
   "source": [
    "#drop unwanted data in the metadata \n",
    "print(len(df_metadata))\n",
    "df_metadata = df_metadata[df_metadata['original_title'].isin(small_title_set)]\n",
    "print(len(df_metadata))"
   ]
  },
  {
   "cell_type": "code",
   "execution_count": 63,
   "metadata": {},
   "outputs": [
    {
     "name": "stdout",
     "output_type": "stream",
     "text": [
      "adult                                                                False\n",
      "belongs_to_collection                                                  NaN\n",
      "budget                                                             8000000\n",
      "genres                   [{'id': 53, 'name': 'Thriller'}, {'id': 80, 'n...\n",
      "homepage                                                               NaN\n",
      "id                                                                     680\n",
      "imdb_id                                                          tt0110912\n",
      "original_language                                                       en\n",
      "original_title                                                Pulp Fiction\n",
      "overview                 A burger-loving hit man, his philosophical par...\n",
      "popularity                                                          140.95\n",
      "poster_path                                /dM2w364MScsjFf8pfMbaWUcWrR.jpg\n",
      "production_companies     [{'name': 'Miramax Films', 'id': 14}, {'name':...\n",
      "production_countries     [{'iso_3166_1': 'US', 'name': 'United States o...\n",
      "release_date                                                    1994-09-10\n",
      "revenue                                                        2.13929e+08\n",
      "runtime                                                                154\n",
      "spoken_languages         [{'iso_639_1': 'en', 'name': 'English'}, {'iso...\n",
      "status                                                            Released\n",
      "tagline                  Just because you are a character doesn't mean ...\n",
      "title                                                         Pulp Fiction\n",
      "video                                                                False\n",
      "vote_average                                                           8.3\n",
      "vote_count                                                            8670\n",
      "Name: 292, dtype: object\n"
     ]
    }
   ],
   "source": [
    "print(df_metadata.loc[292])"
   ]
  },
  {
   "cell_type": "code",
   "execution_count": 69,
   "metadata": {},
   "outputs": [],
   "source": [
    "#extract genre ID as integers from data\n",
    "def extractGenreID(text):\n",
    "    tmp = ast.literal_eval(text)\n",
    "    #ids = []\n",
    "    gen = []\n",
    "    for d in tmp:\n",
    "       # ids.append(int(d['id'])+MAX_MV_ID)\n",
    "        gen.append(d['name'].replace(\" \", \"-\"))\n",
    "   # return [ids, gen]\n",
    "    return gen\n",
    "\n",
    "mv_genre = {}#dict of movie and labeled genre pairs, key: movie id, value: list of genre id\n",
    "genres = {} #dict for genres, key: genre id, value: genre name in English\n",
    "small_movie_id_set = set()\n",
    "movie_title_id_dict = {}#dict for movie_id and title conversion: key: id, val: title\n",
    "\n",
    "#for i in range(len(df_metadata)):\n",
    "    #title = df_metadata.loc[i].original_title\n",
    "for index, row in df_metadata.iterrows():\n",
    "    title = row['original_title']\n",
    "    try:\n",
    "        temp = row['imdb_id']\n",
    "        if isinstance(temp, str) and temp[:2] == \"tt\":  #filter out corrupted data in df_metadata\n",
    "            if int(temp[2:]) in mv_id_convert: #filter out the imdb_id s not in id convertion dict\n",
    "                this_mv_id = mv_id_convert[int(temp[2:])]#convert imdb_id to movie id\n",
    "                this_mv_gen = extractGenreID(row['genres'])\n",
    "                mv_genre[this_mv_id] = this_mv_gen #have tested every mv_id only appear once in the dataframe \n",
    "                small_movie_id_set.add(this_mv_id)\n",
    "                movie_title_id_dict[this_mv_id] = title \n",
    "\n",
    "    except (ValueError, TypeError) as e:  \n",
    "        print(\"error in data\")\n",
    "        print(temp, type(temp))\n"
   ]
  },
  {
   "cell_type": "code",
   "execution_count": 70,
   "metadata": {},
   "outputs": [
    {
     "name": "stdout",
     "output_type": "stream",
     "text": [
      "17\n",
      "17\n"
     ]
    }
   ],
   "source": [
    "print(len(mv_genre))\n",
    "print(len(small_movie_id_set))"
   ]
  },
  {
   "cell_type": "code",
   "execution_count": 71,
   "metadata": {},
   "outputs": [
    {
     "name": "stdout",
     "output_type": "stream",
     "text": [
      "26024289\n",
      "355784\n"
     ]
    }
   ],
   "source": [
    "#drop unwanted data in the user rating data\n",
    "print(len(df))\n",
    "df = df[df['movieId'].isin(small_movie_id_set)]\n",
    "print(len(df))"
   ]
  },
  {
   "cell_type": "code",
   "execution_count": 72,
   "metadata": {},
   "outputs": [],
   "source": [
    "#preprocess data\n",
    "df.drop(columns=['timestamp'])\n",
    "df = df[df.rating >= rating_threshold]#Drop all entry with rating lower than the threshold\n",
    "\n",
    "movie_dict = defaultdict(list)#dict with key: movie_id, val: the list of user_ids rated the movie above the rating threshold\n",
    "for index, row in df.iterrows():   \n",
    "    movieId = int(row['movieId'])\n",
    "    if movieId not in small_movie_id_set:\n",
    "        continue\n",
    "    usrId = int(row['userId'])\n",
    "    movie_dict[movieId].append(usrId)\n",
    "\n",
    "for key in list(movie_dict.keys()):#Drop all movie entry if number of rates below the user count threshold \n",
    "    if len(movie_dict[key]) < user_count_threshold:\n",
    "        del movie_dict[key]"
   ]
  },
  {
   "cell_type": "code",
   "execution_count": 73,
   "metadata": {
    "scrolled": true
   },
   "outputs": [
    {
     "name": "stdout",
     "output_type": "stream",
     "text": [
      "12\n",
      "296 72361\n",
      "Pulp Fiction\n",
      "318 83240\n",
      "The Shawshank Redemption\n",
      "595 25407\n",
      "Beauty and the Beast\n",
      "356 72973\n",
      "Forrest Gump\n",
      "89745 11447\n",
      "The Avengers\n",
      "112623 2683\n",
      "Dawn of the Planet of the Apes\n",
      "122904 7354\n",
      "Deadpool\n",
      "115617 7179\n",
      "Big Hero 6\n",
      "2153 383\n",
      "The Avengers\n",
      "168366 367\n",
      "Beauty and the Beast\n",
      "87222 1714\n",
      "Kung Fu Panda 2\n",
      "171763 255\n",
      "Baby Driver\n"
     ]
    }
   ],
   "source": [
    "print(len(movie_dict))\n",
    "for k,v in movie_dict.items():\n",
    "    print(k,len(v))\n",
    "    print(movie_title_id_dict[k])"
   ]
  },
  {
   "cell_type": "code",
   "execution_count": 74,
   "metadata": {},
   "outputs": [],
   "source": [
    "def marginal_prob(movie_id, count_matrix, num_users):\n",
    "    '''function to get the marginal prob:\n",
    "       P(movie_id1)       \n",
    "    '''\n",
    "    margn_count = count_matrix[ movie_id]\n",
    "    return margn_count/num_users\n",
    "\n",
    "def joint_prob(movie_id1, movie_id2, count_matrix, num_users):\n",
    "    '''function to get the joint prob:\n",
    "        P(movie_id1, movie_id2)\n",
    "    '''\n",
    "    key = (movie_id1, movie_id2) if movie_id1<= movie_id2 else (movie_id2, movie_id1) \n",
    "    joint_count = count_matrix[key] \n",
    "    return joint_count/num_users\n",
    "\n",
    "def conditional_prob(movie_id1, movie_id2, count_matrix, marginal_matrix):\n",
    "    '''function to get the conditional prob:\n",
    "        P(movie_id1 | movie_id2)       \n",
    "    '''\n",
    "    key = (movie_id1, movie_id2) if movie_id1<= movie_id2 else (movie_id2, movie_id1)\n",
    "    joint_count = count_matrix[key]\n",
    "    if joint_count == 0:\n",
    "        return 0\n",
    "    margn_count = marginal_matrix[movie_id2]\n",
    "    '''\n",
    "    print(\"------\")\n",
    "    print(\"id1: \", movie_id1, \"id2: \", movie_id2)\n",
    "    print(count_matrix[(movie_id1, movie_id2)])\n",
    "    print(marginal_matrix[movie_id1], marginal_matrix[movie_id2])\n",
    "    print(\"------\")\n",
    "    '''\n",
    "    #print(joint_count/margn_count)\n",
    "    return joint_count/margn_count\n",
    "\n",
    "#given ordered pair of key(a,b), generate both p(b|a) and p(a|b)\n",
    "def data_generation(a,b, count_matrix, marginal_matrix):\n",
    "    p_a_b = conditional_prob(a, b, count_matrix, marginal_matrix)#p(a|b)\n",
    "    p_b_a = conditional_prob(b, a, count_matrix, marginal_matrix)#p(b|a)\n",
    "    return(((a,b),p_b_a), ((b,a),p_a_b))"
   ]
  },
  {
   "cell_type": "code",
   "execution_count": 75,
   "metadata": {},
   "outputs": [
    {
     "name": "stdout",
     "output_type": "stream",
     "text": [
      "12\n"
     ]
    }
   ],
   "source": [
    "movie_id_set = set(movie_dict.keys())#make a set of valid movie ids used in our data after filtering\n",
    "print(len(movie_id_set))\n"
   ]
  },
  {
   "cell_type": "code",
   "execution_count": 76,
   "metadata": {},
   "outputs": [
    {
     "name": "stdout",
     "output_type": "stream",
     "text": [
      "17\n",
      "12\n"
     ]
    }
   ],
   "source": [
    "print(len(mv_genre))\n",
    "for k in list(mv_genre.keys()):#double check if all movie_genre_pairs are the valid movies after filtering\n",
    "    if k not in movie_id_set:\n",
    "        del mv_genre[k]\n",
    "print(len(mv_genre))"
   ]
  },
  {
   "cell_type": "code",
   "execution_count": 77,
   "metadata": {},
   "outputs": [],
   "source": [
    "#create the movie_genre_master file\n",
    "file = open(OUTPUT_DIR+\"movie_genre_master.txt\", \"w\") \n",
    "for movie_id in list(mv_genre.keys()):\n",
    "    for genre_id in mv_genre[movie_id]:\n",
    "        file.write(\"IsA\\t\"+str(movie_id)+\"\\t\" + str(genre_id) + \"\\t\" + str(1)+\"\\n\")\n",
    "file.close() "
   ]
  },
  {
   "cell_type": "code",
   "execution_count": 78,
   "metadata": {},
   "outputs": [],
   "source": [
    "user_dict = defaultdict(list)#dict with key: user, val: the movie_id this usr rated above given threshold\n",
    "for key, val in movie_dict.items():\n",
    "    for i in val:\n",
    "        user_dict[i].append(key)\n",
    "        \n",
    "#to make sure if a user rate a movie, the user only rate the movie once\n",
    "for key, val in user_dict.items():\n",
    "    user_dict[key] = list(set(val))\n",
    "\n",
    "#movie_movie_count: key: (bk_id_i, bk_id_j) (bk_id_i != bk_id_j and bk_id_i < bk_id_j) \n",
    "#                 val: co-ocurrence count of bk_id_i and bk_id_j\n",
    "#movie_movie_count_marginal: key: (bk_id_i) val: ocurrence count of bk_id_i in the dataset\n",
    "movie_movie_count =  defaultdict(lambda: 0)\n",
    "movie_movie_count_marginal = defaultdict(lambda:0)\n",
    "for key, val in user_dict.items():\n",
    "    for i in range(len(val)):\n",
    "        movie_movie_count_marginal[val[i]] += 1 #marginal count\n",
    "        for j in range(i+1, len(val)):#marginal count not included in book_book_count\n",
    "            movie_movie_count[(val[i], val[j]) if val[i] <= val[j] else (val[j], val[i])] += 1\n",
    "            "
   ]
  },
  {
   "cell_type": "code",
   "execution_count": 79,
   "metadata": {},
   "outputs": [],
   "source": [
    "gen_gen_count =  defaultdict(lambda: 0)\n",
    "gen_gen_count_marginal = defaultdict(lambda:0)\n",
    "\n",
    "for key, val in mv_genre.items():\n",
    "     for i in range(len(val)):\n",
    "        gen_gen_count_marginal[val[i]] += 1 #marginal count\n",
    "        for j in range(i+1, len(val)):#marginal count not included in book_book_count\n",
    "            gen_gen_count[(val[i], val[j]) if val[i] <= val[j] else (val[j], val[i])] += 1"
   ]
  },
  {
   "cell_type": "code",
   "execution_count": 80,
   "metadata": {},
   "outputs": [],
   "source": [
    "#create the movie vocab file\n",
    "file = open(OUTPUT_DIR+\"movie_vocabulary.txt\", \"w\") \n",
    "marginal_keys = list(movie_movie_count_marginal.keys())\n",
    "for i in marginal_keys:\n",
    "    file.write(str(i)+\"\\n\") \n",
    "file.close() \n",
    "\n",
    "#create the movie marginal prob file, order of value match order of books id in vocab file\n",
    "file = open(OUTPUT_DIR+\"movie_marginal_prob.txt\", \"w\") \n",
    "N = len(user_dict)#number of user\n",
    "for i in marginal_keys:\n",
    "    file.write(str(marginal_prob(i, movie_movie_count_marginal, N))+\"\\n\")\n",
    "file.close() "
   ]
  },
  {
   "cell_type": "code",
   "execution_count": 81,
   "metadata": {},
   "outputs": [],
   "source": [
    "#create the genre vocab file\n",
    "file = open(OUTPUT_DIR+\"genre_vocabulary.txt\", \"w\") \n",
    "marginal_keys = list(gen_gen_count_marginal.keys())\n",
    "for i in marginal_keys:\n",
    "    file.write(str(i)+\"\\n\") \n",
    "file.close() \n",
    "\n",
    "#create the genre marginal prob file, order of value match order of books id in vocab file\n",
    "file = open(OUTPUT_DIR+\"genre_marginal_prob.txt\", \"w\") \n",
    "N = len(mv_genre)#number of total movies\n",
    "for i in marginal_keys:\n",
    "    file.write(str(marginal_prob(i, gen_gen_count_marginal, N))+\"\\n\")\n",
    "file.close() "
   ]
  },
  {
   "cell_type": "code",
   "execution_count": 82,
   "metadata": {},
   "outputs": [],
   "source": [
    "temp = list(movie_movie_count.items())\n",
    "movie_movie_master_data=[]\n",
    "for data in temp:\n",
    "    a,b = data_generation(data[0][0],data[0][1], movie_movie_count, movie_movie_count_marginal)\n",
    "    movie_movie_master_data.append(a)\n",
    "    movie_movie_master_data.append(b)\n",
    "#create the train data file\n",
    "file = open(OUTPUT_DIR + \"movie_movie_master.txt\", \"w\") \n",
    "for i in movie_movie_master_data:\n",
    "    if str(i[1])!=\"0\":\n",
    "        file.write(\"IsA\\t\"+str(i[0][0])+\"\\t\" + str(i[0][1]) + \"\\t\" + str(i[1])+\"\\n\")\n",
    "file.close() "
   ]
  },
  {
   "cell_type": "code",
   "execution_count": 83,
   "metadata": {},
   "outputs": [],
   "source": [
    "temp = list(gen_gen_count.items())\n",
    "gen_gen_master_data=[]\n",
    "for data in temp:\n",
    "    a,b = data_generation(data[0][0],data[0][1], gen_gen_count, gen_gen_count_marginal)\n",
    "    gen_gen_master_data.append(a)\n",
    "    gen_gen_master_data.append(b)\n",
    "#create the train data file\n",
    "file = open(OUTPUT_DIR + \"genre_genre_master.txt\", \"w\") \n",
    "for i in gen_gen_master_data:\n",
    "    if str(i[1])!=\"0\":\n",
    "        file.write(\"IsA\\t\"+str(i[0][0])+\"\\t\" + str(i[0][1]) + \"\\t\" + str(i[1])+\"\\n\")\n",
    "file.close() "
   ]
  },
  {
   "cell_type": "code",
   "execution_count": null,
   "metadata": {},
   "outputs": [],
   "source": []
  },
  {
   "cell_type": "code",
   "execution_count": null,
   "metadata": {},
   "outputs": [],
   "source": []
  }
 ],
 "metadata": {
  "kernelspec": {
   "display_name": "Python 3",
   "language": "python",
   "name": "python3"
  },
  "language_info": {
   "codemirror_mode": {
    "name": "ipython",
    "version": 3
   },
   "file_extension": ".py",
   "mimetype": "text/x-python",
   "name": "python",
   "nbconvert_exporter": "python",
   "pygments_lexer": "ipython3",
   "version": "3.6.8"
  }
 },
 "nbformat": 4,
 "nbformat_minor": 2
}

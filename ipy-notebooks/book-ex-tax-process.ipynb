{
 "cells": [
  {
   "cell_type": "code",
   "execution_count": 23,
   "metadata": {},
   "outputs": [],
   "source": [
    "import os \n",
    "import random\n",
    "import numpy as np \n",
    "import pandas as pd\n",
    "from collections import defaultdict\n",
    "import itertools\n",
    "import ast\n",
    "import csv"
   ]
  },
  {
   "cell_type": "code",
   "execution_count": 2,
   "metadata": {},
   "outputs": [],
   "source": [
    "#hyper parameters\n",
    "rating_threshold = 4.5 #only counted the usr rating if it is rated above the rating threshold\n",
    "user_count_threshold = 500 #only keep the bk_id if the bk is rated by user for more than user_count_threshold times\n",
    "split = [0.8, 0.1, 0.1] #train, dev, test split\n",
    "#INPUT_DIR = '../../../data/the-movies-dataset/'\n",
    "INPUT_DIR ='../../datasets/goodbooks-10k-master/'\n",
    "OUTPUT_DIR = '../box-code/data/book_data/big/taxonomy/'"
   ]
  },
  {
   "cell_type": "code",
   "execution_count": 3,
   "metadata": {},
   "outputs": [
    {
     "name": "stdout",
     "output_type": "stream",
     "text": [
      "                     Parent                                            Child\n",
      "0              10th-century                        ['Fiction', 'Literature']\n",
      "1              11th-century                        ['Fiction', 'Literature']\n",
      "2              12th-century                        ['Fiction', 'Literature']\n",
      "3              13th-century                        ['Fiction', 'Literature']\n",
      "4              14th-century                        ['Fiction', 'Literature']\n",
      "5              15th-century  ['Fiction', 'Historical Fiction', 'Literature']\n",
      "6              16th-century                        ['Fiction', 'Literature']\n",
      "7              17th-century  ['Fiction', 'Historical Fiction', 'Literature']\n",
      "8  1864-shenandoah-campaign       ['American History', 'American Civil War']\n",
      "9              18th-century  ['Fiction', 'Historical Fiction', 'Literature']\n"
     ]
    }
   ],
   "source": [
    "#read in external taxonomy\n",
    "tax_file = INPUT_DIR + 'extras/ext_genres_taxo.csv'\n",
    "df_ex_tax = pd.read_csv(tax_file, delimiter=',')\n",
    "df_ex_tax.dataframeName = 'ex_tax.csv'\n",
    "print(df_ex_tax.head(10))"
   ]
  },
  {
   "cell_type": "code",
   "execution_count": 4,
   "metadata": {},
   "outputs": [],
   "source": [
    "vocab_file = INPUT_DIR + 'extras/genre_vocabulary.txt'\n",
    "with open (vocab_file, 'r') as rfile:\n",
    "    vocab_list = [line.rstrip() for line in rfile]\n",
    "\n",
    "vocab_set = set(vocab_list)  # just an addition. keep it for now."
   ]
  },
  {
   "cell_type": "code",
   "execution_count": 5,
   "metadata": {},
   "outputs": [
    {
     "name": "stdout",
     "output_type": "stream",
     "text": [
      "['fantasy', 'young-adult', 'fiction', 'magic', 'childrens']\n"
     ]
    }
   ],
   "source": [
    "print(vocab_list[:5])"
   ]
  },
  {
   "cell_type": "code",
   "execution_count": 6,
   "metadata": {},
   "outputs": [],
   "source": [
    "#preprocess external taxonomy\n",
    "for i, col in enumerate(df_ex_tax.columns):\n",
    "    df_ex_tax.iloc[:, i] = df_ex_tax.iloc[:, i].str.replace('\"', '')\n",
    "    df_ex_tax.iloc[:, i] = df_ex_tax.iloc[:, i].str.replace('\\'', '')\n",
    "    df_ex_tax.iloc[:, i] = df_ex_tax.iloc[:, i].str.replace('[', '')\n",
    "    df_ex_tax.iloc[:, i] = df_ex_tax.iloc[:, i].str.replace(']', '')"
   ]
  },
  {
   "cell_type": "code",
   "execution_count": 7,
   "metadata": {},
   "outputs": [
    {
     "name": "stdout",
     "output_type": "stream",
     "text": [
      "                     Parent                                    Child\n",
      "0              10th-century                      Fiction, Literature\n",
      "1              11th-century                      Fiction, Literature\n",
      "2              12th-century                      Fiction, Literature\n",
      "3              13th-century                      Fiction, Literature\n",
      "4              14th-century                      Fiction, Literature\n",
      "5              15th-century  Fiction, Historical Fiction, Literature\n",
      "6              16th-century                      Fiction, Literature\n",
      "7              17th-century  Fiction, Historical Fiction, Literature\n",
      "8  1864-shenandoah-campaign     American History, American Civil War\n",
      "9              18th-century  Fiction, Historical Fiction, Literature\n"
     ]
    }
   ],
   "source": [
    "print(df_ex_tax.head(10))"
   ]
  },
  {
   "cell_type": "code",
   "execution_count": 8,
   "metadata": {},
   "outputs": [],
   "source": [
    "import string\n",
    "def strProcess(s):\n",
    "    if not s: return \n",
    "    s = s.replace('\\\\u200', '')\n",
    "    s = s.lstrip().lower().replace(' ', '-')\n",
    "    if not s.replace('-', '').isalnum():\n",
    "        #print(s)\n",
    "        return\n",
    "    return s"
   ]
  },
  {
   "cell_type": "code",
   "execution_count": 9,
   "metadata": {},
   "outputs": [],
   "source": [
    "#read external taxonomy into dict\n",
    "ex_tax_dict={} #key: term 1 in external taxonomy, val: term 2 in external taxonomy(a list)\n",
    "for index, row in df_ex_tax.iterrows():    \n",
    "    child = row['Child'].split(\",\")  # list of related genres (+ve examples)!\n",
    "    parent = row['Parent'].replace(' ', '-')\n",
    "    if parent not in vocab_set:\n",
    "        continue\n",
    "    for i in child:\n",
    "        i = strProcess(i)\n",
    "        if not i or i not in vocab_set: \n",
    "            continue\n",
    "        if parent not in ex_tax_dict:\n",
    "            ex_tax_dict[parent] = [i]\n",
    "        else:\n",
    "            ex_tax_dict[parent].append(i)"
   ]
  },
  {
   "cell_type": "code",
   "execution_count": 15,
   "metadata": {},
   "outputs": [
    {
     "data": {
      "text/plain": [
       "380"
      ]
     },
     "execution_count": 15,
     "metadata": {},
     "output_type": "execute_result"
    }
   ],
   "source": [
    "len(ex_tax_dict)"
   ]
  },
  {
   "cell_type": "code",
   "execution_count": 28,
   "metadata": {},
   "outputs": [],
   "source": [
    "# this sampling can be made more efficient!\n",
    "num_neg = 5\n",
    "negative_dict = defaultdict(list)\n",
    "\n",
    "for key in ex_tax_dict:\n",
    "    count = 0\n",
    "    while count < num_neg:\n",
    "        gen = random.choice(vocab_list)\n",
    "        cond1 = gen not in ex_tax_dict[key]\n",
    "        cond2 = key not in ex_tax_dict[gen] if gen in ex_tax_dict else True\n",
    "        if cond1 and cond2:\n",
    "            negative_dict[key].append(gen)\n",
    "            count += 1\n",
    "\n"
   ]
  },
  {
   "cell_type": "code",
   "execution_count": 29,
   "metadata": {},
   "outputs": [
    {
     "data": {
      "text/plain": [
       "380"
      ]
     },
     "execution_count": 29,
     "metadata": {},
     "output_type": "execute_result"
    }
   ],
   "source": [
    "len(negative_dict)"
   ]
  },
  {
   "cell_type": "code",
   "execution_count": 33,
   "metadata": {},
   "outputs": [
    {
     "data": {
      "text/plain": [
       "['shapeshifters', 'epic', 'adoption', 'self-help', 'retellings']"
      ]
     },
     "execution_count": 33,
     "metadata": {},
     "output_type": "execute_result"
    }
   ],
   "source": [
    "negative_dict['government']"
   ]
  },
  {
   "cell_type": "code",
   "execution_count": 35,
   "metadata": {},
   "outputs": [],
   "source": [
    "#save ex_tax_dict (positive trn egs)\n",
    "import pickle\n",
    "dict_file = INPUT_DIR + 'extras/extax_dict_Pos.pkl'\n",
    "with open(dict_file, 'wb') as f:  \n",
    "    pickle.dump(ex_tax_dict, f)\n",
    "\n",
    "# save neg_dict (negative trn egs)\n",
    "import pickle\n",
    "neg_dict_file = INPUT_DIR + 'extras/extax_dict_Neg.pkl'\n",
    "with open(neg_dict_file, 'wb') as f:  \n",
    "    pickle.dump(negative_dict, f)\n",
    "\n",
    "        "
   ]
  },
  {
   "cell_type": "code",
   "execution_count": 37,
   "metadata": {},
   "outputs": [],
   "source": [
    "pos_gn_gn_pairs = INPUT_DIR + 'extras/genre_genre_4.5_Pos.txt'\n",
    "neg_gn_gn_pairs = INPUT_DIR + 'extras/genre_genre_4.5_Neg.txt'\n",
    "all_gn_gn_pairs = INPUT_DIR + 'extras/genre_genre_4.5_All.txt'\n",
    "eps = 0.00001 # non-zero low prob for  neg pairs. 1e-5\n",
    "\n",
    "with open(pos_gn_gn_pairs, 'w') as outfile:\n",
    "    for key, values in ex_tax_dict.items():\n",
    "        for v in values:\n",
    "            outfile.write(\"IsA %s %s 1\\n\" % (key, v))    \n",
    "\n",
    "with open(neg_gn_gn_pairs, 'w') as outfile:\n",
    "    for key, values in negative_dict.items():\n",
    "        for v in values:\n",
    "            outfile.write(\"IsA %s %s 0.00001\\n\" % (key, v))    \n",
    "\n",
    "# CAT the files together using cat in terminal! to All.txt file."
   ]
  },
  {
   "cell_type": "code",
   "execution_count": null,
   "metadata": {},
   "outputs": [],
   "source": []
  }
 ],
 "metadata": {
  "kernelspec": {
   "display_name": "Python 2",
   "language": "python",
   "name": "python2"
  },
  "language_info": {
   "codemirror_mode": {
    "name": "ipython",
    "version": 2
   },
   "file_extension": ".py",
   "mimetype": "text/x-python",
   "name": "python",
   "nbconvert_exporter": "python",
   "pygments_lexer": "ipython2",
   "version": "2.7.15"
  }
 },
 "nbformat": 4,
 "nbformat_minor": 2
}

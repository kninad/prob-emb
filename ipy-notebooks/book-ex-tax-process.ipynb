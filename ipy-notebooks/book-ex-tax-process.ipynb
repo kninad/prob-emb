{
 "cells": [
  {
   "cell_type": "code",
   "execution_count": null,
   "metadata": {},
   "outputs": [],
   "source": [
    "import os \n",
    "import numpy as np \n",
    "import pandas as pd\n",
    "from collections import defaultdict\n",
    "import itertools\n",
    "import ast\n",
    "import csv"
   ]
  },
  {
   "cell_type": "code",
   "execution_count": 5,
   "metadata": {},
   "outputs": [],
   "source": [
    "#hyper parameters\n",
    "rating_threshold = 4.5 #only counted the usr rating if it is rated above the rating threshold\n",
    "user_count_threshold = 500 #only keep the bk_id if the bk is rated by user for more than user_count_threshold times\n",
    "split = [0.8, 0.1, 0.1] #train, dev, test split\n",
    "#INPUT_DIR = '../../../data/the-movies-dataset/'\n",
    "INPUT_DIR ='../../data/goodbooks-10k-master/'\n",
    "OUTPUT_DIR = '../box-code/data/book_data/big/taxonomy/'"
   ]
  },
  {
   "cell_type": "code",
   "execution_count": 6,
   "metadata": {},
   "outputs": [
    {
     "name": "stdout",
     "output_type": "stream",
     "text": [
      "                     Parent                                            Child\n",
      "0              10th-century                        ['Fiction', 'Literature']\n",
      "1              11th-century                        ['Fiction', 'Literature']\n",
      "2              12th-century                        ['Fiction', 'Literature']\n",
      "3              13th-century                        ['Fiction', 'Literature']\n",
      "4              14th-century                        ['Fiction', 'Literature']\n",
      "5              15th-century  ['Fiction', 'Historical Fiction', 'Literature']\n",
      "6              16th-century                        ['Fiction', 'Literature']\n",
      "7              17th-century  ['Fiction', 'Historical Fiction', 'Literature']\n",
      "8  1864-shenandoah-campaign       ['American History', 'American Civil War']\n",
      "9              18th-century  ['Fiction', 'Historical Fiction', 'Literature']\n"
     ]
    }
   ],
   "source": [
    "#read in external taxonomy\n",
    "tax_file = INPUT_DIR + 'ext_genres_taxo.csv'\n",
    "df_ex_tax = pd.read_csv(tax_file, delimiter=',')\n",
    "df_ex_tax.dataframeName = 'ex_tax.csv'\n",
    "print(df_ex_tax.head(10))"
   ]
  },
  {
   "cell_type": "code",
   "execution_count": 8,
   "metadata": {},
   "outputs": [],
   "source": [
    "#preprocess external taxonomy\n",
    "for i, col in enumerate(df_ex_tax.columns):\n",
    "    df_ex_tax.iloc[:, i] = df_ex_tax.iloc[:, i].str.replace('\"', '')\n",
    "    df_ex_tax.iloc[:, i] = df_ex_tax.iloc[:, i].str.replace('\\'', '')\n",
    "    df_ex_tax.iloc[:, i] = df_ex_tax.iloc[:, i].str.replace('[', '')\n",
    "    df_ex_tax.iloc[:, i] = df_ex_tax.iloc[:, i].str.replace(']', '')"
   ]
  },
  {
   "cell_type": "code",
   "execution_count": 9,
   "metadata": {},
   "outputs": [
    {
     "name": "stdout",
     "output_type": "stream",
     "text": [
      "                     Parent                                    Child\n",
      "0              10th-century                      Fiction, Literature\n",
      "1              11th-century                      Fiction, Literature\n",
      "2              12th-century                      Fiction, Literature\n",
      "3              13th-century                      Fiction, Literature\n",
      "4              14th-century                      Fiction, Literature\n",
      "5              15th-century  Fiction, Historical Fiction, Literature\n",
      "6              16th-century                      Fiction, Literature\n",
      "7              17th-century  Fiction, Historical Fiction, Literature\n",
      "8  1864-shenandoah-campaign     American History, American Civil War\n",
      "9              18th-century  Fiction, Historical Fiction, Literature\n"
     ]
    }
   ],
   "source": [
    "print(df_ex_tax.head(10))"
   ]
  },
  {
   "cell_type": "code",
   "execution_count": 11,
   "metadata": {},
   "outputs": [],
   "source": [
    "import string\n",
    "def strProcess(s):\n",
    "    if not s: return \n",
    "    s = s.replace('\\\\u200', '')\n",
    "    s = s.lstrip().lower().replace(' ', '-')\n",
    "    if not s.replace('-', '').isalnum():\n",
    "        #print(s)\n",
    "        return\n",
    "    return s"
   ]
  },
  {
   "cell_type": "code",
   "execution_count": 12,
   "metadata": {},
   "outputs": [],
   "source": [
    "#read external taxonomy into dict\n",
    "ex_tax_dict={} #key: term 1 in external taxonomy, val: term 2 in external taxonomy(a list)\n",
    "for index, row in df_ex_tax.iterrows():\n",
    "    child = row['Child'].split(\",\")\n",
    "    parent = row['Parent'].replace(' ', '-')\n",
    "    for i in child:\n",
    "        i = strProcess(i)\n",
    "        if not i: continue\n",
    "        if parent not in ex_tax_dict:\n",
    "            ex_tax_dict[parent] = [i]\n",
    "        else:\n",
    "            ex_tax_dict[parent].append(i)"
   ]
  },
  {
   "cell_type": "code",
   "execution_count": 15,
   "metadata": {},
   "outputs": [],
   "source": [
    "#for k, v in ex_tax_dict.items():\n",
    " #   print(k,v)"
   ]
  },
  {
   "cell_type": "code",
   "execution_count": 30,
   "metadata": {},
   "outputs": [],
   "source": [
    "#save ex_tax_dict\n",
    "import pickle\n",
    "with open('objs.pkl', 'wb') as f:  # Python 3: open(..., 'wb')\n",
    "    pickle.dump(ex_tax_dict, f)"
   ]
  },
  {
   "cell_type": "code",
   "execution_count": null,
   "metadata": {},
   "outputs": [],
   "source": [
    "'''\n",
    "#getting back ex_tax_dict\n",
    "with open('objs.pkl', 'rb') as f:  # Python 3: open(..., 'rb')\n",
    "    ex_tax_dict = pickle.load(f)\n",
    "'''"
   ]
  }
 ],
 "metadata": {
  "kernelspec": {
   "display_name": "Python 3",
   "language": "python",
   "name": "python3"
  },
  "language_info": {
   "codemirror_mode": {
    "name": "ipython",
    "version": 3
   },
   "file_extension": ".py",
   "mimetype": "text/x-python",
   "name": "python",
   "nbconvert_exporter": "python",
   "pygments_lexer": "ipython3",
   "version": "3.6.8"
  }
 },
 "nbformat": 4,
 "nbformat_minor": 2
}

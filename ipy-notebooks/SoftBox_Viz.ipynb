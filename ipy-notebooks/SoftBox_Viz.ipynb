{
 "cells": [
  {
   "cell_type": "code",
   "execution_count": null,
   "metadata": {
    "scrolled": false
   },
   "outputs": [],
   "source": [
    "import numpy as np\n",
    "import seaborn as sn\n",
    "import pandas as pd\n",
    "import matplotlib.pyplot as plt\n",
    "from collections import defaultdict\n",
    "\n",
    "viz_dict = np.load(\"viz_dict.npy\").item()\n",
    "word2idx = np.load(\"word2idx.npy\").item()\n",
    "idx2word = np.load(\"idx2word.npy\").item()\n",
    "idx2title = np.load(\"movid_to_name_dict.npy\").item()\n",
    "\n",
    "sortedKeys = sorted(viz_dict)\n",
    "print(len(sortedKeys))\n",
    "print(sortedKeys)    \n"
   ]
  },
  {
   "cell_type": "code",
   "execution_count": null,
   "metadata": {},
   "outputs": [],
   "source": [
    "marginal = {}\n",
    "conditional = {}\n",
    "embed = defaultdict(lambda: defaultdict())\n",
    "mn, mx = float(\"-inf\"), float(\"inf\")\n",
    "embed_min_max = defaultdict(lambda:(mx,mn,mx,mn)) # (xmin, xmax, ymin, ymax)\n",
    "adjList = defaultdict(set)\n",
    "ids = set()\n",
    "epochs = -1\n",
    "for k in sortedKeys:\n",
    "    epoch, id1, id2 = k\n",
    "    conditional[(epoch, id1, id2)] = viz_dict[k][0]\n",
    "    marginal[(epoch, id1)] = viz_dict[k][1]\n",
    "    embed[epoch][id1] = (viz_dict[k][2], viz_dict[k][3])\n",
    "    marginal[(epoch, id2)] = viz_dict[k][4]\n",
    "    embed[epoch][id2] = (viz_dict[k][5], viz_dict[k][6])\n",
    "    \n",
    "    embed_min_max[epoch] = (min(embed_min_max[epoch][0],viz_dict[k][2][0]),\n",
    "                            max(embed_min_max[epoch][1],viz_dict[k][3][0]),\n",
    "                            min(embed_min_max[epoch][2],viz_dict[k][2][1]),\n",
    "                            max(embed_min_max[epoch][3],viz_dict[k][3][1]))\n",
    "    \n",
    "    embed_min_max[epoch] = (min(embed_min_max[epoch][0],viz_dict[k][5][0]),\n",
    "                            max(embed_min_max[epoch][1],viz_dict[k][6][0]),\n",
    "                            min(embed_min_max[epoch][2],viz_dict[k][5][1]),\n",
    "                            max(embed_min_max[epoch][3],viz_dict[k][6][1]))\n",
    "    adjList[id1].add(id2)\n",
    "    ids.add(id1)\n",
    "    ids.add(id2)\n",
    "    epochs = max(epochs, epoch)\n",
    "\n",
    "# Normalize the coordinates\n",
    "for epoch in range(epoch+1):\n",
    "    xmin, ymin = embed_min_max[epoch][0], embed_min_max[epoch][2]\n",
    "    xdelta, ydelta = embed_min_max[epoch][1]-xmin, embed_min_max[epoch][3]-ymin\n",
    "    for key in embed[epoch]:\n",
    "        embed[epoch][key] = (((embed[epoch][key][0][0]-xmin)/(xdelta), \n",
    "                             (embed[epoch][key][0][1]-ymin)/(ydelta)),\n",
    "                             ((embed[epoch][key][1][0]-xmin)/(xdelta),\n",
    "                             (embed[epoch][key][1][1]-ymin)/(ydelta))\n",
    "                            )\n",
    "        "
   ]
  },
  {
   "cell_type": "code",
   "execution_count": null,
   "metadata": {
    "scrolled": false
   },
   "outputs": [],
   "source": [
    "n = len(ids)\n",
    "ids = list(ids)\n",
    "my_cmap = plt.cm.get_cmap(\"Blues\", n)\n",
    "counter = 0\n",
    "data_idx_map = {}\n",
    "for i in ids:\n",
    "    data_idx_map[i] = counter\n",
    "    counter+=1\n",
    "    \n",
    "for e in range(0, epochs+1, 50):\n",
    "    plt.figure(figsize = (10, 7))\n",
    "    data = [[0]*n for i in range(n)]\n",
    "    for i in range(n):\n",
    "        index = data_idx_map[ids[i]]\n",
    "        data[index][index] = 1 #marginal[(e, index)]\n",
    "        for j in adjList[index]:\n",
    "            if (e, index, j) in conditional:\n",
    "                data[index][data_idx_map[j]] = conditional[(e, index, j)]\n",
    "    idx = [idx2title[i+1] for i in ids]\n",
    "    df_cm = pd.DataFrame(data, index = idx, columns = idx)\n",
    "    sn.heatmap(df_cm, cmap=my_cmap, annot=True)\n",
    "#     plt.title(\"$Prob(id_y|id_x)$, Epoch:%d  \\n *Diagonal represents marginal\"%e, fontsize=15)\n",
    "    plt.title(\"$Prob(id_y|id_x)$, Epoch:%d\"%e, fontsize=15)\n",
    "    plt.xlabel(r\"$id_x$\", fontsize=15)\n",
    "    plt.ylabel(r\"$id_y$\", fontsize=15)\n",
    "    plt.tight_layout()\n",
    "    plt.show()\n"
   ]
  },
  {
   "cell_type": "code",
   "execution_count": null,
   "metadata": {
    "scrolled": false
   },
   "outputs": [],
   "source": [
    "\n",
    "my_cmap = plt.cm.get_cmap(\"hsv\", n)\n",
    "for e in range(0, epochs+1, 50):\n",
    "#     plt.subplot(epochs//3+1,3,e+1) \n",
    "    plt.figure(figsize = (10, 7))\n",
    "    for idx in embed[e]:\n",
    "        bottom, top = embed[e][idx]\n",
    "        x1,y1,x2,y2 = bottom[0], bottom[1], top[0], top[1]\n",
    "#         print(x1,y1,x2,y2)\n",
    "        plt.gca().add_patch(plt.Rectangle((x1, y1), x2-x1,y2-y1, fill=True, facecolor=my_cmap(idx), alpha=0.5, label=idx2title[idx+1]))\n",
    "        plt.title(\"Epoch: %d\"%e)\n",
    "    plt.legend(loc=0, bbox_to_anchor=(1, 1), fontsize=15)\n",
    "    plt.tight_layout()\n",
    "#     plt.savefig(\"%d.png\"%e)\n",
    "    plt.show()"
   ]
  },
  {
   "cell_type": "code",
   "execution_count": null,
   "metadata": {},
   "outputs": [],
   "source": [
    "path = \"path to movie train file\"\n",
    "grnd_cpd = {}\n",
    "with open(path+\"movie_train.txt\", \"r\") as f:\n",
    "    for line in f.readlines():\n",
    "        line = line.split(\"\\t\")\n",
    "        id1, id2, cprob = line[1], line[2], line[3]\n",
    "        grnd_cpd[(word2idx[id1],word2idx[id2])] = float(cprob)\n"
   ]
  },
  {
   "cell_type": "code",
   "execution_count": null,
   "metadata": {},
   "outputs": [],
   "source": [
    "plt.figure(figsize = (10, 7))\n",
    "data = [[0]*n for i in range(n)]\n",
    "\n",
    "for i in range(n):\n",
    "    index = ids[i]\n",
    "    data[index][index] = 1 \n",
    "    for j in adjList[index]:\n",
    "        if (index, j) in grnd_cpd:\n",
    "            data[index][data_idx_map[j]] = grnd_cpd[(index, j)]\n",
    "idx = [idx2title[i+1] for i in ids]\n",
    "df_cm = pd.DataFrame(data, index = idx, columns = idx)\n",
    "sn.heatmap(df_cm, annot=True)\n",
    "plt.title(\"$Prob(id_y|id_x)$,  Ground Truth\", fontsize=15)\n",
    "plt.xlabel(r\"$id_x$\", fontsize=15)\n",
    "plt.ylabel(r\"$id_y$\", fontsize=15)\n",
    "plt.tight_layout()\n",
    "plt.show()\n",
    "\n"
   ]
  }
 ],
 "metadata": {
  "kernelspec": {
   "display_name": "Python [conda env:Anaconda3]",
   "language": "python",
   "name": "conda-env-Anaconda3-py"
  },
  "language_info": {
   "codemirror_mode": {
    "name": "ipython",
    "version": 3
   },
   "file_extension": ".py",
   "mimetype": "text/x-python",
   "name": "python",
   "nbconvert_exporter": "python",
   "pygments_lexer": "ipython3",
   "version": "3.6.5"
  }
 },
 "nbformat": 4,
 "nbformat_minor": 2
}
